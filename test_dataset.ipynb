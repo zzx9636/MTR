{
 "cells": [
  {
   "cell_type": "code",
   "execution_count": null,
   "metadata": {},
   "outputs": [],
   "source": [
    "# autoreload module\n",
    "# https://stackoverflow.com/questions/1907993/autoreload-of-modules-in-ipython\n",
    "%load_ext autoreload\n",
    "%autoreload 2"
   ]
  },
  {
   "cell_type": "code",
   "execution_count": null,
   "metadata": {},
   "outputs": [],
   "source": [
    "import os\n",
    "os.environ['TF_CPP_MIN_LOG_LEVEL'] = '3'\n",
    "\n",
    "import tensorflow as tf\n",
    "# set tf to cpu only\n",
    "tf.config.set_visible_devices([], 'GPU')\n",
    "\n",
    "import jax\n",
    "jax.config.update('jax_platform_name', 'cpu')\n",
    "\n",
    "# Import Network\n",
    "import torch\n",
    "from bc.bc_dataset import BCDataset, BCDatasetTester\n",
    "from torch.utils.data import DataLoader\n",
    "from tqdm import tqdm\n",
    "import numpy as np\n",
    "import matplotlib.pyplot as plt"
   ]
  },
  {
   "cell_type": "markdown",
   "metadata": {},
   "source": [
    "# Test Sampleing"
   ]
  },
  {
   "cell_type": "code",
   "execution_count": null,
   "metadata": {},
   "outputs": [],
   "source": [
    "dataset = BCDatasetTester(\n",
    "    data_path='/Data/Dataset/Waymo/V1_2_tf/training_extracted',\n",
    ")\n",
    "dataloader = DataLoader(dataset, batch_size=128, \n",
    "                        shuffle=False, num_workers=16,\n",
    "                        pin_memory=False,\n",
    "                        # collate_fn=dataset.collate_fn)\n",
    "                        collate_fn=lambda x: x)"
   ]
  },
  {
   "cell_type": "code",
   "execution_count": null,
   "metadata": {},
   "outputs": [],
   "source": [
    "bin_historgram = np.zeros((6*8,), dtype=np.int32)\n",
    "histogram = {}\n",
    "\n",
    "for i, batch in enumerate(dataloader):\n",
    "    for b, d, _ in batch:\n",
    "        d = tuple(d)\n",
    "        if d not in histogram:\n",
    "            histogram[d] = 0\n",
    "        histogram[d] += 1\n",
    "        \n",
    "        bin_historgram[b] += 1\n",
    "    if i > 10_000:\n",
    "        break"
   ]
  },
  {
   "cell_type": "code",
   "execution_count": null,
   "metadata": {},
   "outputs": [],
   "source": [
    "sample_p = np.clip(dataset.histogram, 0, 1e4)\n",
    "# sample_p = np.log(dataset.histogram+1)\n",
    "# sample_p = dataset.histogram\n",
    "sample_p = sample_p / np.sum(sample_p)\n",
    "\n",
    "plt.imshow(sample_p.reshape(6, 8))\n",
    "plt.colorbar()\n",
    "print(np.round(sample_p.reshape(6, 8), 3))"
   ]
  },
  {
   "cell_type": "code",
   "execution_count": null,
   "metadata": {},
   "outputs": [],
   "source": [
    "print(i)\n",
    "val_list = list(histogram.values())\n",
    "print(sorted(val_list)[-10:])"
   ]
  },
  {
   "cell_type": "code",
   "execution_count": null,
   "metadata": {},
   "outputs": [],
   "source": [
    "def test():\n",
    "    bin_idx = np.random.choice(len(dataset.sample_p), p=dataset.sample_p)\n",
    "    cache_id = np.random.randint(dataset.histogram[bin_idx])\n",
    "    cache = dataset.idx_cache[bin_idx][cache_id]\n",
    "    dataset.retrive_one(cache)\n",
    "\n",
    "%timeit test()"
   ]
  },
  {
   "cell_type": "markdown",
   "metadata": {},
   "source": [
    "# Get mean and variance\n"
   ]
  },
  {
   "cell_type": "code",
   "execution_count": null,
   "metadata": {},
   "outputs": [],
   "source": [
    "def calc(n, running_sum, running_sum_square):\n",
    "    mean  = running_sum / n\n",
    "    var = running_sum_square / n - mean**2\n",
    "    std = var**0.5\n",
    "    \n",
    "    print('mean: ', mean)\n",
    "    print('var: ', var)\n",
    "    print('std: ', std)"
   ]
  },
  {
   "cell_type": "code",
   "execution_count": null,
   "metadata": {},
   "outputs": [],
   "source": [
    "running_sum = 0\n",
    "running_sum_square = 0\n",
    "n = 0\n",
    "\n",
    "for i, (_, _, gt) in tqdm(enumerate(dataloader), total=10000):\n",
    "    # print(batch)\n",
    "    # break\n",
    "    running_sum += gt.sum(axis=0)\n",
    "    running_sum_square += (gt**2).sum(axis=0)\n",
    "    n += gt.shape[0]\n",
    "    \n",
    "    if i >= 100:\n",
    "        break\n",
    "calc(n, running_sum, running_sum_square)"
   ]
  },
  {
   "cell_type": "code",
   "execution_count": null,
   "metadata": {},
   "outputs": [],
   "source": [
    "calc(n, running_sum, running_sum_square)"
   ]
  },
  {
   "cell_type": "code",
   "execution_count": null,
   "metadata": {},
   "outputs": [],
   "source": [
    "def estimate_mean_and_variance(hist, x_edges, y_edges):\n",
    "    \n",
    "    x_mean = np.sum(hist * x_edges[:, np.newaxis]) / np.sum(hist)\n",
    "    y_mean = np.sum(hist * y_edges[np.newaxis, :]) / np.sum(hist)\n",
    "    \n",
    "    x_var = np.sum(hist * (x_edges[:, np.newaxis] - x_mean)**2) / np.sum(hist)\n",
    "    y_var = np.sum(hist * (y_edges[np.newaxis, :] - y_mean)**2) / np.sum(hist)\n",
    "    \n",
    "    return x_mean, y_mean, np.sqrt(x_var), np.sqrt(y_var)\n",
    "\n",
    "hist = np.zeros([len(dataset.accel_grid), len(dataset.steer_grid)])\n",
    "for key, val in dataset.cache['idx_cache'].items():\n",
    "    i = key[0]\n",
    "    j = key[1]\n",
    "    hist[i,j] = np.log(len(val)+1)\n",
    "\n",
    "x_mean, y_mean, x_var, y_var = estimate_mean_and_variance(hist, dataset.accel_grid, dataset.steer_grid)\n",
    "print('x_mean:', x_mean)\n",
    "print('y_mean:', y_mean)\n",
    "print('x_var:', x_var)\n",
    "print('y_var:', y_var)\n"
   ]
  },
  {
   "cell_type": "code",
   "execution_count": null,
   "metadata": {},
   "outputs": [],
   "source": [
    "# Create a figure and axis for plotting\n",
    "fig, ax = plt.subplots()\n",
    "\n",
    "# Plot the initial histogram\n",
    "im = ax.imshow(np.log(hist.T+1), origin='lower',\n",
    "            extent=[dataset.accel_grid[0], dataset.accel_grid[-1], dataset.steer_grid[0], dataset.steer_grid[-1]],\n",
    "            aspect='auto')\n",
    "\n",
    "plt.colorbar(im, ax=ax, label='Log Counts')\n",
    "plt.xlabel('X')\n",
    "plt.ylabel('Y')\n",
    "plt.title('2D Histogram')\n",
    "\n",
    "plt.show()\n"
   ]
  },
  {
   "cell_type": "code",
   "execution_count": null,
   "metadata": {},
   "outputs": [],
   "source": [
    "np.linspace(-0.4,0.4,5)"
   ]
  }
 ],
 "metadata": {
  "kernelspec": {
   "display_name": "waymax",
   "language": "python",
   "name": "python3"
  },
  "language_info": {
   "codemirror_mode": {
    "name": "ipython",
    "version": 3
   },
   "file_extension": ".py",
   "mimetype": "text/x-python",
   "name": "python",
   "nbconvert_exporter": "python",
   "pygments_lexer": "ipython3",
   "version": "3.10.13"
  }
 },
 "nbformat": 4,
 "nbformat_minor": 2
}
