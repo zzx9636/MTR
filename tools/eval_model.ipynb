{
 "cells": [
  {
   "cell_type": "code",
   "execution_count": 71,
   "metadata": {},
   "outputs": [
    {
     "name": "stdout",
     "output_type": "stream",
     "text": [
      "The autoreload extension is already loaded. To reload it, use:\n",
      "  %reload_ext autoreload\n"
     ]
    }
   ],
   "source": [
    "# enable reload the module\n",
    "%load_ext autoreload\n",
    "%autoreload 2"
   ]
  },
  {
   "cell_type": "code",
   "execution_count": 88,
   "metadata": {},
   "outputs": [],
   "source": [
    "from mtr_inference import MTRInference\n",
    "import matplotlib.pyplot as plt\n",
    "import imageio.v2 as imageio\n",
    "import os\n",
    "cfg_file = '/home/zixuzhang/Documents/Git/MTR/tools/cfgs/waymo/eval.yaml'\n",
    "ckpt_path = '/home/zixuzhang/Documents/Git/MTR/model/checkpoint_epoch_30.pth'"
   ]
  },
  {
   "attachments": {},
   "cell_type": "markdown",
   "metadata": {},
   "source": [
    "# Interesting case:\n",
    "1. Val, 6, 2d84b1ab55ab81d3, U-turn vs Left-turn\n",
    "2. Val, 7, 3505972c220e6b3a, Turn vs Striaght for merging\n",
    "3. Val, 25, 6d2a107f2e8390a, Merge to main road\n",
    "4. Val, 26, ae92386e0686d4d6, Complicated 4-way stop\n",
    "5. Val, 27, 3d00a93f0ba5e294, Both car merge to main road\n",
    "6. Val, 36, 31d18fac4011375c, illegal merging to the main road"
   ]
  },
  {
   "cell_type": "code",
   "execution_count": 91,
   "metadata": {},
   "outputs": [],
   "source": [
    "\n",
    "mtr_inference = MTRInference(cfg_file, ckpt_path)\n",
    "\n",
    "index = 26\n",
    "\n",
    "mtr_inference.generate_gif(index, 'gif')\n"
   ]
  }
 ],
 "metadata": {
  "kernelspec": {
   "display_name": "lpp",
   "language": "python",
   "name": "python3"
  },
  "language_info": {
   "codemirror_mode": {
    "name": "ipython",
    "version": 3
   },
   "file_extension": ".py",
   "mimetype": "text/x-python",
   "name": "python",
   "nbconvert_exporter": "python",
   "pygments_lexer": "ipython3",
   "version": "3.9.16"
  },
  "orig_nbformat": 4
 },
 "nbformat": 4,
 "nbformat_minor": 2
}
