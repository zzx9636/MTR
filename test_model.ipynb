{
 "cells": [
  {
   "cell_type": "code",
   "execution_count": 1,
   "metadata": {},
   "outputs": [],
   "source": [
    "# automatically reload the package when it is modified\n",
    "%load_ext autoreload\n",
    "%autoreload 2"
   ]
  },
  {
   "cell_type": "code",
   "execution_count": 2,
   "metadata": {},
   "outputs": [],
   "source": [
    "from mtr.models import model as model_utils\n",
    "from mtr.config import cfg, cfg_from_list, cfg_from_yaml_file, log_config_to_file\n",
    "\n",
    "\n",
    "conifg_path = 'tools/cfgs/waymo/bc+10_percent_data.yaml'\n",
    "weight = 'model/checkpoint_epoch_30.pth'\n",
    "cfg = cfg_from_yaml_file(conifg_path, cfg)\n"
   ]
  },
  {
   "cell_type": "code",
   "execution_count": 3,
   "metadata": {},
   "outputs": [
    {
     "name": "stdout",
     "output_type": "stream",
     "text": [
      "==> Loading parameters from checkpoint model/checkpoint_epoch_30.pth to GPU\n",
      "==> Checkpoint trained from version: none\n",
      "The number of disk ckpt keys: 842\n",
      "Missing keys: ['motion_decoder.motion_ctrl_head.0.weight', 'motion_decoder.motion_ctrl_head.1.weight', 'motion_decoder.motion_ctrl_head.1.bias', 'motion_decoder.motion_ctrl_head.1.running_mean', 'motion_decoder.motion_ctrl_head.1.running_var', 'motion_decoder.motion_ctrl_head.3.weight', 'motion_decoder.motion_ctrl_head.4.weight', 'motion_decoder.motion_ctrl_head.4.bias', 'motion_decoder.motion_ctrl_head.4.running_mean', 'motion_decoder.motion_ctrl_head.4.running_var', 'motion_decoder.motion_ctrl_head.6.weight', 'motion_decoder.motion_ctrl_head.7.weight', 'motion_decoder.motion_ctrl_head.7.bias', 'motion_decoder.motion_ctrl_head.7.running_mean', 'motion_decoder.motion_ctrl_head.7.running_var', 'motion_decoder.motion_ctrl_head.9.weight', 'motion_decoder.motion_ctrl_head.9.bias']\n",
      "The number of missing keys: 17\n",
      "The number of unexpected keys: 0\n",
      "==> Done (total keys 862)\n"
     ]
    },
    {
     "data": {
      "text/plain": [
       "(435087, 30)"
      ]
     },
     "execution_count": 3,
     "metadata": {},
     "output_type": "execute_result"
    }
   ],
   "source": [
    "# Load Model\n",
    "model = model_utils.MotionTransformer(cfg.MODEL)\n",
    "model.load_params_from_file(weight, freeze_pretrained=True)"
   ]
  },
  {
   "cell_type": "code",
   "execution_count": 7,
   "metadata": {},
   "outputs": [],
   "source": [
    "param2opt = [name for name, param in model.named_parameters() if param.requires_grad]"
   ]
  },
  {
   "cell_type": "markdown",
   "metadata": {},
   "source": []
  }
 ],
 "metadata": {
  "kernelspec": {
   "display_name": "lpp",
   "language": "python",
   "name": "python3"
  },
  "language_info": {
   "codemirror_mode": {
    "name": "ipython",
    "version": 3
   },
   "file_extension": ".py",
   "mimetype": "text/x-python",
   "name": "python",
   "nbconvert_exporter": "python",
   "pygments_lexer": "ipython3",
   "version": "3.9.16"
  },
  "orig_nbformat": 4
 },
 "nbformat": 4,
 "nbformat_minor": 2
}
