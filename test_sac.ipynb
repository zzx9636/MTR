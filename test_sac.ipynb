{
 "cells": [
  {
   "cell_type": "code",
   "execution_count": null,
   "metadata": {},
   "outputs": [],
   "source": [
    "# autoreload module\n",
    "# https://stackoverflow.com/questions/1907993/autoreload-of-modules-in-ipython\n",
    "%load_ext autoreload\n",
    "%autoreload 2"
   ]
  },
  {
   "cell_type": "code",
   "execution_count": null,
   "metadata": {},
   "outputs": [],
   "source": [
    "import os\n",
    "os.environ['TF_CPP_MIN_LOG_LEVEL'] = '3'\n",
    "\n",
    "# Import Network\n",
    "import jax\n",
    "jax.config.update('jax_platform_name', 'cpu')\n",
    "\n",
    "from jax import numpy as jnp\n",
    "import torch\n",
    "import tensorflow as tf\n",
    "tf.config.set_visible_devices([], 'GPU')\n",
    "\n",
    "import numpy as np\n",
    "\n",
    "from mtr.models.context_encoder.mtr_encoder import MTREncoder\n",
    "from mtr.models.motion_decoder.bc_decoder import BCDecoder\n",
    "from mtr.models.motion_decoder.q_decoder import QDecoder\n",
    "from rl.actor import Actor\n",
    "from rl.critic import Critic\n",
    "from rl.encoder import Encoder\n",
    "from rl.sac import SAC\n",
    "\n",
    "import dataclasses\n",
    "from waymax import config as _config\n",
    "from waymax import datatypes\n",
    "from waymax import dynamics\n",
    "from rl_env.waymax_env import  MultiAgentEnvironment\n",
    "from rl_env.waymax_util import WomdLoader\n",
    "from rl_env.unicycle_model import InvertibleUnicycleModel\n",
    "import copy\n",
    "\n",
    "from mtr.config import cfg, cfg_from_yaml_file"
   ]
  },
  {
   "cell_type": "code",
   "execution_count": null,
   "metadata": {},
   "outputs": [],
   "source": [
    "max_num_objects = 32\n",
    "\n",
    "# create a dataset\n",
    "WOMD_1_2_0_VAL = _config.DatasetConfig(\n",
    "    path='/Data/Dataset/Waymo/V1_2_tf/validation_interactive/validation_interactive_tfexample.tfrecord@150',\n",
    "    # path='/Data/Dataset/Waymo/V1_2_tf/validation/validation_tfexample.tfrecord@150',\n",
    "    max_num_rg_points=30000,\n",
    "    data_format=_config.DataFormat.TFRECORD,\n",
    "    max_num_objects=max_num_objects,\n",
    "    shuffle_seed = 0,\n",
    "    num_shards=4,\n",
    ")\n",
    "\n",
    "WOMD_1_2_0_TRAIN = _config.DatasetConfig(\n",
    "    path='/Data/Dataset/Waymo/V1_2_tf/training/training_tfexample.tfrecord@1000',\n",
    "    max_num_rg_points=30000,\n",
    "    data_format=_config.DataFormat.TFRECORD,\n",
    "    max_num_objects=max_num_objects,\n",
    "    shuffle_seed = 0,\n",
    ")\n",
    "\n",
    "data_iter_train = WomdLoader(data_config=WOMD_1_2_0_TRAIN)\n",
    "data_iter_val = WomdLoader(data_config=WOMD_1_2_0_VAL)\n",
    "\n",
    "\n",
    "# Config the multi-agent environment:\n",
    "init_steps = 1\n",
    "\n",
    "# Set the dynamics model the environment is using.\n",
    "# Note each actor interacting with the environment needs to provide action\n",
    "# compatible with this dynamics model.\n",
    "dynamics_model = InvertibleUnicycleModel()\n",
    "\n",
    "# Expect users to control all valid object in the scene.\n",
    "env = MultiAgentEnvironment(\n",
    "    dynamics_model=dynamics_model,\n",
    "    config=dataclasses.replace(\n",
    "        _config.EnvironmentConfig(),\n",
    "        init_steps = init_steps,\n",
    "        max_num_objects=max_num_objects,\n",
    "        controlled_object=_config.ObjectType.MODELED,\n",
    "        rewards = _config.LinearCombinationRewardConfig(\n",
    "            rewards={\n",
    "                'overlap': 1.0, # Positive is good.  \n",
    "                'offroad': -1.0, # Positive is good after the negative sign.\n",
    "            }\n",
    "        )\n",
    "    ),\n",
    ")"
   ]
  },
  {
   "cell_type": "code",
   "execution_count": null,
   "metadata": {},
   "outputs": [],
   "source": [
    "@jax.jit\n",
    "def check_controlled(state: datatypes.SimulatorState):\n",
    "    current_stamp = state.timestep\n",
    "    is_valid = state.sim_trajectory.valid[..., current_stamp]\n",
    "    \n",
    "    is_modeled = jnp.logical_or(\n",
    "        state.object_metadata.is_modeled,\n",
    "        state.object_metadata.is_sdc\n",
    "    )\n",
    "    \n",
    "    # is_modeled = is_valid\n",
    "    # is_modeled.at[10:].set(False)\n",
    "    is_vehicle = (state.object_metadata.object_types == 1)\n",
    "    \n",
    "    return jnp.logical_and(is_valid, jnp.logical_and(is_modeled, is_vehicle))"
   ]
  },
  {
   "cell_type": "code",
   "execution_count": null,
   "metadata": {},
   "outputs": [],
   "source": [
    "cfg = cfg_from_yaml_file('tools/cfgs/waymo/rl_finetune.yaml', cfg)\n",
    "cfg.SAC.RL.EVAL_EPISODES = 10\n",
    "cfg.SAC.ACTOR.ENTROPY_REG = False\n",
    "cfg.SAC.ACTOR.UPDATE_ALPHA = False\n",
    "model_dict = torch.load('output/bc_bicycle_4_freeze/epoch=0-step=755000.ckpt')['state_dict']"
   ]
  },
  {
   "cell_type": "code",
   "execution_count": null,
   "metadata": {},
   "outputs": [],
   "source": [
    "encoder_network = MTREncoder(cfg.MODEL.CONTEXT_ENCODER)\n",
    "# encoder_network.load_model(model_dict)\n",
    "\n",
    "actor_network = BCDecoder(\n",
    "    encoder_network.num_out_channels,\n",
    "    cfg.MODEL.MOTION_DECODER\n",
    ")\n",
    "# actor_network.load_model(model_dict)\n",
    "\n",
    "critic_network = QDecoder(\n",
    "    encoder_network.num_out_channels,\n",
    "    cfg.MODEL.Q_DECODER\n",
    ")\n",
    "\n",
    "encoder = Encoder(\n",
    "    model_cfg=cfg.MODEL.CONTEXT_ENCODER,\n",
    "    is_controlled_func = check_controlled,\n",
    ")\n",
    "encoder.context_encoder.load_model(model_dict)\n",
    "actor = Actor(\n",
    "    cfg.SAC.ACTOR,\n",
    "    actor_network,\n",
    ")\n",
    "actor.actor_network.load_model(model_dict)\n",
    "actor.eval()\n",
    "\n",
    "critic = Critic(\n",
    "    cfg.SAC.CRITIC,\n",
    "    critic_network\n",
    ")   \n",
    "\n",
    "sac = SAC(\n",
    "    cfg = cfg.SAC.RL ,\n",
    "    seed = 0,\n",
    "    train_data_iter = data_iter_train,\n",
    "    val_data_iter = data_iter_val,\n",
    "    env = env,\n",
    "    encoder = encoder,\n",
    "    actor = actor,\n",
    "    ref_actor = copy.deepcopy(actor),\n",
    "    critic = critic,\n",
    ")"
   ]
  },
  {
   "cell_type": "code",
   "execution_count": null,
   "metadata": {},
   "outputs": [],
   "source": [
    "sac.learn()"
   ]
  },
  {
   "cell_type": "markdown",
   "metadata": {},
   "source": [
    "# Eval"
   ]
  },
  {
   "cell_type": "code",
   "execution_count": null,
   "metadata": {},
   "outputs": [],
   "source": [
    "sample = sac.memory.sample(4)\n",
    "print(sample['g_x'])\n",
    "print(sample['is_done'])"
   ]
  },
  {
   "cell_type": "code",
   "execution_count": null,
   "metadata": {},
   "outputs": [],
   "source": [
    "e, b = sac.update_critics(sample)\n",
    "print(e/b)"
   ]
  },
  {
   "cell_type": "markdown",
   "metadata": {},
   "source": [
    "# Single iteration"
   ]
  },
  {
   "cell_type": "code",
   "execution_count": null,
   "metadata": {},
   "outputs": [],
   "source": [
    "scenario_id, scenario = data_iter.next()\n",
    "cur_state = env.reset(scenario)\n",
    "with torch.no_grad():\n",
    "    cur_encoded_state, is_controlled = encoder(cur_state)"
   ]
  },
  {
   "cell_type": "code",
   "execution_count": null,
   "metadata": {},
   "outputs": [],
   "source": [
    "metrics = env.metrics(cur_state, None)"
   ]
  },
  {
   "cell_type": "code",
   "execution_count": null,
   "metadata": {},
   "outputs": [],
   "source": [
    "np.asarray(metrics['offroad'].value)[is_controlled]"
   ]
  },
  {
   "cell_type": "code",
   "execution_count": null,
   "metadata": {},
   "outputs": [],
   "source": [
    "np.asarray(metrics['overlap'].value)[is_controlled].min(axis=-1)"
   ]
  },
  {
   "cell_type": "code",
   "execution_count": null,
   "metadata": {},
   "outputs": [],
   "source": [
    "gen = np.random.default_rng(0)"
   ]
  }
 ],
 "metadata": {
  "kernelspec": {
   "display_name": "waymax",
   "language": "python",
   "name": "python3"
  },
  "language_info": {
   "codemirror_mode": {
    "name": "ipython",
    "version": 3
   },
   "file_extension": ".py",
   "mimetype": "text/x-python",
   "name": "python",
   "nbconvert_exporter": "python",
   "pygments_lexer": "ipython3",
   "version": "3.10.13"
  }
 },
 "nbformat": 4,
 "nbformat_minor": 2
}
