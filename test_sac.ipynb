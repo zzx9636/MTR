{
 "cells": [
  {
   "cell_type": "code",
   "execution_count": 35,
   "metadata": {},
   "outputs": [
    {
     "name": "stdout",
     "output_type": "stream",
     "text": [
      "The autoreload extension is already loaded. To reload it, use:\n",
      "  %reload_ext autoreload\n"
     ]
    }
   ],
   "source": [
    "# autoreload module\n",
    "# https://stackoverflow.com/questions/1907993/autoreload-of-modules-in-ipython\n",
    "%load_ext autoreload\n",
    "%autoreload 2"
   ]
  },
  {
   "cell_type": "code",
   "execution_count": 36,
   "metadata": {},
   "outputs": [],
   "source": [
    "# Import Network\n",
    "import jax\n",
    "from jax import numpy as jnp\n",
    "from mtr.models.context_encoder.mtr_encoder import MTREncoder\n",
    "from mtr.models.motion_decoder.bc_decoder import BCDecoder\n",
    "from mtr.models.motion_decoder.q_decoder import QDecoder\n",
    "from rl.actor import Actor\n",
    "from rl.critic import Critic\n",
    "from rl.encoder import Encoder\n",
    "from rl.sac import SAC\n",
    "import torch\n",
    "import dataclasses\n",
    "from waymax import config as _config\n",
    "from waymax import datatypes\n",
    "from waymax import dynamics\n",
    "from rl_env.waymax_env import  MultiAgentEnvironment\n",
    "from rl_env.env_utils import WomdLoader\n",
    "import tensorflow as tf\n",
    "import copy\n",
    "\n",
    "from mtr.config import cfg, cfg_from_yaml_file"
   ]
  },
  {
   "cell_type": "code",
   "execution_count": 37,
   "metadata": {},
   "outputs": [],
   "source": [
    "max_num_objects = 32\n",
    "\n",
    "# create a dataset\n",
    "WOMD_1_2_0_VAL_LOCAL = _config.DatasetConfig(\n",
    "    path='/Data/Dataset/Waymo/V1_2_tf/validation_interactive/validation_interactive_tfexample.tfrecord@150',\n",
    "    # path='/Data/Dataset/Waymo/V1_2_tf/validation/validation_tfexample.tfrecord@150',\n",
    "    max_num_rg_points=30000,\n",
    "    data_format=_config.DataFormat.TFRECORD,\n",
    "    max_num_objects=max_num_objects,\n",
    "    shuffle_seed = 0,\n",
    "    repeat = 1,\n",
    ")\n",
    "\n",
    "WOMD_1_2_0_TRAIN_LOCAL = _config.DatasetConfig(\n",
    "    path='/Data/Dataset/Waymo/V1_2_tf/training/training_tfexample.tfrecord@1000',\n",
    "    # path='/Data/Dataset/Waymo/V1_2_tf/validation/validation_tfexample.tfrecord@150',\n",
    "    max_num_rg_points=30000,\n",
    "    data_format=_config.DataFormat.TFRECORD,\n",
    "    max_num_objects=max_num_objects,\n",
    "    shuffle_seed = 0,\n",
    ")\n",
    "\n",
    "data_iter = WomdLoader(data_config=WOMD_1_2_0_VAL_LOCAL)\n",
    "\n",
    "\n",
    "# Config the multi-agent environment:\n",
    "init_steps = 11\n",
    "\n",
    "# Set the dynamics model the environment is using.\n",
    "# Note each actor interacting with the environment needs to provide action\n",
    "# compatible with this dynamics model.\n",
    "dynamics_model = dynamics.DeltaLocal()\n",
    "\n",
    "# Expect users to control all valid object in the scene.\n",
    "env = MultiAgentEnvironment(\n",
    "    dynamics_model=dynamics_model,\n",
    "    config=dataclasses.replace(\n",
    "        _config.EnvironmentConfig(),\n",
    "        init_steps = init_steps,\n",
    "        max_num_objects=max_num_objects,\n",
    "        controlled_object=_config.ObjectType.MODELED,\n",
    "        rewards = _config.LinearCombinationRewardConfig(\n",
    "            rewards={\n",
    "                'overlap': 1.0, # Positive is good.  \n",
    "                'offroad': 1.0, # Negative is good.\n",
    "                # 'kinematics': 1.0, # Negative is good.\n",
    "            }\n",
    "        )\n",
    "    ),\n",
    ")"
   ]
  },
  {
   "cell_type": "code",
   "execution_count": 38,
   "metadata": {},
   "outputs": [],
   "source": [
    "@jax.jit\n",
    "def check_controlled(state: datatypes.SimulatorState):\n",
    "    current_stamp = state.timestep\n",
    "    is_valid = state.sim_trajectory.valid[..., current_stamp]\n",
    "    \n",
    "    is_modeled = jnp.logical_or(\n",
    "        state.object_metadata.is_modeled,\n",
    "        state.object_metadata.is_sdc\n",
    "    )\n",
    "    \n",
    "    # is_modeled = is_valid\n",
    "    # is_modeled.at[10:].set(False)\n",
    "    is_vehicle = (state.object_metadata.object_types == 1)\n",
    "    \n",
    "    return jnp.logical_and(is_valid, jnp.logical_and(is_modeled, is_vehicle))"
   ]
  },
  {
   "cell_type": "code",
   "execution_count": 39,
   "metadata": {},
   "outputs": [],
   "source": [
    "cfg = cfg_from_yaml_file('tools/cfgs/waymo/rl_finetune.yaml', cfg)\n",
    "model_dict = torch.load('output/bc_atten_4_unfreeze_state/epoch=19-step=1211340.ckpt', map_location=torch.device('cpu'))['state_dict']"
   ]
  },
  {
   "cell_type": "code",
   "execution_count": 40,
   "metadata": {},
   "outputs": [],
   "source": [
    "encoder_network = MTREncoder(cfg.MODEL.CONTEXT_ENCODER)\n",
    "encoder_network.load_model(model_dict)\n",
    "\n",
    "actor_network = BCDecoder(\n",
    "    encoder_network.num_out_channels,\n",
    "    cfg.MODEL.MOTION_DECODER\n",
    ")\n",
    "actor_network.load_model(model_dict)\n",
    "critic_network = QDecoder(\n",
    "    encoder_network.num_out_channels,\n",
    "    cfg.MODEL.Q_DECODER\n",
    ")\n",
    "\n",
    "encoder = Encoder(\n",
    "    model_cfg=cfg.MODEL.CONTEXT_ENCODER,\n",
    "    is_controlled_func = check_controlled,\n",
    ")\n",
    "\n",
    "actor = Actor(\n",
    "    cfg.SAC.ACTOR,\n",
    "    actor_network,\n",
    ")\n",
    "actor.eval()\n",
    "\n",
    "critic = Critic(\n",
    "    cfg.SAC.CRITIC,\n",
    "    critic_network\n",
    ")   \n",
    "\n",
    "sac = SAC(\n",
    "    cfg = cfg.SAC.RL ,\n",
    "    seed = 0,\n",
    "    train_data_iter = data_iter,\n",
    "    val_data_iter = data_iter,\n",
    "    env = env,\n",
    "    encoder = encoder,\n",
    "    actor = actor,\n",
    "    ref_actor = copy.deepcopy(actor),\n",
    "    critic = critic,\n",
    ")"
   ]
  },
  {
   "cell_type": "code",
   "execution_count": 53,
   "metadata": {},
   "outputs": [
    {
     "name": "stdout",
     "output_type": "stream",
     "text": [
      "Evaluating the model at sample step 0\n"
     ]
    },
    {
     "name": "stderr",
     "output_type": "stream",
     "text": [
      "  0%|          | 100/43479 [01:14<8:58:01,  1.34it/s]"
     ]
    },
    {
     "name": "stdout",
     "output_type": "stream",
     "text": [
      "{'avg_eposide_length': 9.16, 'success': 0, 'collision': 49, 'offroad': 53}\n"
     ]
    },
    {
     "name": "stderr",
     "output_type": "stream",
     "text": [
      "\n"
     ]
    }
   ],
   "source": [
    "sac.learn()"
   ]
  },
  {
   "cell_type": "code",
   "execution_count": 47,
   "metadata": {},
   "outputs": [
    {
     "data": {
      "text/plain": [
       "43479"
      ]
     },
     "execution_count": 47,
     "metadata": {},
     "output_type": "execute_result"
    }
   ],
   "source": [
    "data_iter.len()"
   ]
  },
  {
   "cell_type": "code",
   "execution_count": 52,
   "metadata": {},
   "outputs": [
    {
     "data": {
      "text/plain": [
       "11"
      ]
     },
     "execution_count": 52,
     "metadata": {},
     "output_type": "execute_result"
    }
   ],
   "source": [
    "env.config.init_steps"
   ]
  }
 ],
 "metadata": {
  "kernelspec": {
   "display_name": "waymax",
   "language": "python",
   "name": "python3"
  },
  "language_info": {
   "codemirror_mode": {
    "name": "ipython",
    "version": 3
   },
   "file_extension": ".py",
   "mimetype": "text/x-python",
   "name": "python",
   "nbconvert_exporter": "python",
   "pygments_lexer": "ipython3",
   "version": "3.10.13"
  }
 },
 "nbformat": 4,
 "nbformat_minor": 2
}
