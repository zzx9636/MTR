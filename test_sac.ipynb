{
 "cells": [
  {
   "cell_type": "code",
   "execution_count": 1,
   "metadata": {},
   "outputs": [],
   "source": [
    "# autoreload module\n",
    "# https://stackoverflow.com/questions/1907993/autoreload-of-modules-in-ipython\n",
    "%load_ext autoreload\n",
    "%autoreload 2"
   ]
  },
  {
   "cell_type": "code",
   "execution_count": 2,
   "metadata": {},
   "outputs": [],
   "source": [
    "import os\n",
    "# os.environ[\"CUDA_VISIBLE_DEVICES\"] = \"-1\""
   ]
  },
  {
   "cell_type": "code",
   "execution_count": 3,
   "metadata": {},
   "outputs": [
    {
     "name": "stderr",
     "output_type": "stream",
     "text": [
      "2023-12-08 15:24:46.693566: W tensorflow/compiler/xla/stream_executor/platform/default/dso_loader.cc:64] Could not load dynamic library 'libnvinfer.so.7'; dlerror: libnvinfer.so.7: cannot open shared object file: No such file or directory\n",
      "2023-12-08 15:24:46.693604: W tensorflow/compiler/xla/stream_executor/platform/default/dso_loader.cc:64] Could not load dynamic library 'libnvinfer_plugin.so.7'; dlerror: libnvinfer_plugin.so.7: cannot open shared object file: No such file or directory\n",
      "2023-12-08 15:24:46.693608: W tensorflow/compiler/tf2tensorrt/utils/py_utils.cc:38] TF-TRT Warning: Cannot dlopen some TensorRT libraries. If you would like to use Nvidia GPU with TensorRT, please make sure the missing libraries mentioned above are installed properly.\n",
      "/home/zixuzhang/mambaforge/envs/waymax/lib/python3.10/site-packages/tqdm/auto.py:21: TqdmWarning: IProgress not found. Please update jupyter and ipywidgets. See https://ipywidgets.readthedocs.io/en/stable/user_install.html\n",
      "  from .autonotebook import tqdm as notebook_tqdm\n"
     ]
    }
   ],
   "source": [
    "# Import Network\n",
    "import jax\n",
    "from jax import numpy as jnp\n",
    "from mtr.models.context_encoder.mtr_encoder import MTREncoder\n",
    "from mtr.models.motion_decoder.bc_decoder import BCDecoder\n",
    "from mtr.models.motion_decoder.q_decoder import QDecoder\n",
    "from rl.actor import Actor\n",
    "from rl.critic import Critic\n",
    "from rl.encoder import Encoder\n",
    "from rl.sac import SAC\n",
    "import torch\n",
    "import dataclasses\n",
    "from waymax import config as _config\n",
    "from waymax import datatypes\n",
    "from waymax import dynamics\n",
    "from rl_env.waymax_env import womd_loader, MultiAgentEnvironment\n",
    "import tensorflow as tf\n",
    "\n",
    "\n",
    "from mtr.config import cfg, cfg_from_yaml_file"
   ]
  },
  {
   "cell_type": "code",
   "execution_count": 4,
   "metadata": {},
   "outputs": [],
   "source": [
    "max_num_objects = 32\n",
    "\n",
    "# create a dataset\n",
    "WOMD_1_2_0_VAL_LOCAL = _config.DatasetConfig(\n",
    "    path='/Data/Dataset/Waymo/V1_2_tf/validation_interactive/validation_interactive_tfexample.tfrecord@150',\n",
    "    # path='/Data/Dataset/Waymo/V1_2_tf/validation/validation_tfexample.tfrecord@150',\n",
    "    max_num_rg_points=30000,\n",
    "    data_format=_config.DataFormat.TFRECORD,\n",
    "    max_num_objects=max_num_objects,\n",
    "    shuffle_seed = 0,\n",
    ")\n",
    "\n",
    "data_iter = womd_loader(data_config=WOMD_1_2_0_VAL_LOCAL)\n",
    "\n",
    "\n",
    "# Config the multi-agent environment:\n",
    "init_steps = 11\n",
    "\n",
    "# Set the dynamics model the environment is using.\n",
    "# Note each actor interacting with the environment needs to provide action\n",
    "# compatible with this dynamics model.\n",
    "dynamics_model = dynamics.DeltaLocal()\n",
    "\n",
    "# Expect users to control all valid object in the scene.\n",
    "env = MultiAgentEnvironment(\n",
    "    dynamics_model=dynamics_model,\n",
    "    config=dataclasses.replace(\n",
    "        _config.EnvironmentConfig(),\n",
    "        init_steps = init_steps,\n",
    "        max_num_objects=max_num_objects,\n",
    "        controlled_object=_config.ObjectType.MODELED,\n",
    "        rewards = _config.LinearCombinationRewardConfig(\n",
    "            rewards={\n",
    "                'overlap': 1.0, # Positive is good.  \n",
    "                'offroad': 1.0, # Negative is good.\n",
    "                'kinematics': 1.0, # Negative is good.\n",
    "            }\n",
    "        )\n",
    "    ),\n",
    ")"
   ]
  },
  {
   "cell_type": "code",
   "execution_count": 5,
   "metadata": {},
   "outputs": [
    {
     "name": "stderr",
     "output_type": "stream",
     "text": [
      "No GPU/TPU found, falling back to CPU. (Set TF_CPP_MIN_LOG_LEVEL=0 and rerun for more info.)\n"
     ]
    },
    {
     "name": "stdout",
     "output_type": "stream",
     "text": [
      "WARNING:tensorflow:From /home/zixuzhang/mambaforge/envs/waymax/lib/python3.10/site-packages/tensorflow/python/autograph/pyct/static_analysis/liveness.py:83: Analyzer.lamba_check (from tensorflow.python.autograph.pyct.static_analysis.liveness) is deprecated and will be removed after 2023-09-23.\n",
      "Instructions for updating:\n",
      "Lambda fuctions will be no more assumed to be used in the statement where they are used, or at least in the same block. https://github.com/tensorflow/tensorflow/issues/56089\n"
     ]
    },
    {
     "ename": "RuntimeError",
     "evalue": "Exiting device scope without proper scope nesting",
     "output_type": "error",
     "traceback": [
      "\u001b[0;31m---------------------------------------------------------------------------\u001b[0m",
      "\u001b[0;31mRuntimeError\u001b[0m                              Traceback (most recent call last)",
      "\u001b[1;32m/home/zixuzhang/Documents/Git/MTR/test_sac.ipynb Cell 5\u001b[0m line \u001b[0;36m1\n\u001b[0;32m----> <a href='vscode-notebook-cell://ssh-remote%2B7b22686f73744e616d65223a224c616232227d/home/zixuzhang/Documents/Git/MTR/test_sac.ipynb#X33sdnNjb2RlLXJlbW90ZQ%3D%3D?line=0'>1</a>\u001b[0m \u001b[39mwith\u001b[39;00m tf\u001b[39m.\u001b[39mdevice(\u001b[39m'\u001b[39m\u001b[39m/CPU:0\u001b[39m\u001b[39m'\u001b[39m):\n\u001b[1;32m      <a href='vscode-notebook-cell://ssh-remote%2B7b22686f73744e616d65223a224c616232227d/home/zixuzhang/Documents/Git/MTR/test_sac.ipynb#X33sdnNjb2RlLXJlbW90ZQ%3D%3D?line=1'>2</a>\u001b[0m     _, cur_state \u001b[39m=\u001b[39m \u001b[39mnext\u001b[39m(data_iter)\n",
      "File \u001b[0;32m~/mambaforge/envs/waymax/lib/python3.10/site-packages/tensorflow/python/eager/context.py:2055\u001b[0m, in \u001b[0;36m_EagerDeviceContext.__exit__\u001b[0;34m(self, *ex_info)\u001b[0m\n\u001b[1;32m   2053\u001b[0m old_device_name, old_device_spec, new_device_spec \u001b[39m=\u001b[39m \u001b[39mself\u001b[39m\u001b[39m.\u001b[39m_stack[\u001b[39m-\u001b[39m\u001b[39m1\u001b[39m]\n\u001b[1;32m   2054\u001b[0m \u001b[39mif\u001b[39;00m ctx\u001b[39m.\u001b[39mdevice_spec \u001b[39mis\u001b[39;00m \u001b[39mnot\u001b[39;00m new_device_spec:\n\u001b[0;32m-> 2055\u001b[0m   \u001b[39mraise\u001b[39;00m \u001b[39mRuntimeError\u001b[39;00m(\u001b[39m\"\u001b[39m\u001b[39mExiting device scope without proper scope nesting\u001b[39m\u001b[39m\"\u001b[39m)\n\u001b[1;32m   2056\u001b[0m \u001b[39mdel\u001b[39;00m \u001b[39mself\u001b[39m\u001b[39m.\u001b[39m_stack[\u001b[39m-\u001b[39m\u001b[39m1\u001b[39m]\n\u001b[1;32m   2057\u001b[0m ctx\u001b[39m.\u001b[39m_set_device(old_device_name, old_device_spec)\n",
      "\u001b[0;31mRuntimeError\u001b[0m: Exiting device scope without proper scope nesting"
     ]
    }
   ],
   "source": [
    "with tf.device('/CPU:0'):\n",
    "    _, cur_state = next(data_iter)\n"
   ]
  },
  {
   "cell_type": "code",
   "execution_count": null,
   "metadata": {},
   "outputs": [],
   "source": [
    "@jax.jit\n",
    "def check_controlled(state: datatypes.SimulatorState):\n",
    "    current_stamp = state.timestep\n",
    "    is_valid = state.sim_trajectory.valid[..., current_stamp]\n",
    "    \n",
    "    is_modeled = jnp.logical_or(\n",
    "        state.object_metadata.is_modeled,\n",
    "        state.object_metadata.is_sdc\n",
    "    )\n",
    "    \n",
    "    # is_modeled = is_valid\n",
    "    # is_modeled.at[10:].set(False)\n",
    "    is_vehicle = (state.object_metadata.object_types == 1)\n",
    "    \n",
    "    return jnp.logical_and(is_valid, jnp.logical_and(is_modeled, is_vehicle))"
   ]
  },
  {
   "cell_type": "code",
   "execution_count": null,
   "metadata": {},
   "outputs": [],
   "source": [
    "cfg = cfg_from_yaml_file('tools/cfgs/waymo/rl_finetune.yaml', cfg)\n",
    "\n",
    "model_dict = torch.load('output/bc_atten_4_unfreeze_state/epoch=19-step=1211340.ckpt', map_location=torch.device('cpu'))['state_dict']"
   ]
  },
  {
   "cell_type": "code",
   "execution_count": null,
   "metadata": {},
   "outputs": [],
   "source": [
    "\n",
    "\n",
    "encoder_network = MTREncoder(cfg.MODEL.CONTEXT_ENCODER)\n",
    "encoder_network.load_model(model_dict)\n",
    "\n",
    "actor_network = BCDecoder(\n",
    "    encoder_network.num_out_channels,\n",
    "    cfg.MODEL.MOTION_DECODER\n",
    ")\n",
    "actor_network.load_model(model_dict)\n",
    "critic_network = QDecoder(\n",
    "    encoder_network.num_out_channels,\n",
    "    cfg.MODEL.Q_DECODER\n",
    ")\n",
    "\n",
    "encoder = Encoder(\n",
    "    model_cfg=cfg.MODEL.CONTEXT_ENCODER,\n",
    "    is_controlled_func = check_controlled,\n",
    ")\n",
    "\n",
    "actor = Actor(\n",
    "    cfg.SAC.ACTOR,\n",
    "    actor_network\n",
    ")\n",
    "actor.eval()\n",
    "\n",
    "critic = Critic(\n",
    "    cfg.SAC.CRITIC,\n",
    "    critic_network\n",
    ")   \n",
    "\n",
    "\n",
    "sac = SAC(\n",
    "    None ,\n",
    "    None,\n",
    "    data_iter,\n",
    "    env,\n",
    "    encoder,\n",
    "    actor,\n",
    "    None,\n",
    "    critic,\n",
    ")"
   ]
  },
  {
   "cell_type": "code",
   "execution_count": null,
   "metadata": {},
   "outputs": [
    {
     "name": "stderr",
     "output_type": "stream",
     "text": [
      "No GPU/TPU found, falling back to CPU. (Set TF_CPP_MIN_LOG_LEVEL=0 and rerun for more info.)\n"
     ]
    },
    {
     "name": "stdout",
     "output_type": "stream",
     "text": [
      "WARNING:tensorflow:From /home/zixuzhang/mambaforge/envs/waymax/lib/python3.10/site-packages/tensorflow/python/autograph/pyct/static_analysis/liveness.py:83: Analyzer.lamba_check (from tensorflow.python.autograph.pyct.static_analysis.liveness) is deprecated and will be removed after 2023-09-23.\n",
      "Instructions for updating:\n",
      "Lambda fuctions will be no more assumed to be used in the statement where they are used, or at least in the same block. https://github.com/tensorflow/tensorflow/issues/56089\n"
     ]
    }
   ],
   "source": [
    "sac.interact()"
   ]
  }
 ],
 "metadata": {
  "kernelspec": {
   "display_name": "waymax",
   "language": "python",
   "name": "python3"
  },
  "language_info": {
   "codemirror_mode": {
    "name": "ipython",
    "version": 3
   },
   "file_extension": ".py",
   "mimetype": "text/x-python",
   "name": "python",
   "nbconvert_exporter": "python",
   "pygments_lexer": "ipython3",
   "version": "3.10.13"
  }
 },
 "nbformat": 4,
 "nbformat_minor": 2
}
