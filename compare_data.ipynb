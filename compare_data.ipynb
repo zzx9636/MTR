{
 "cells": [
  {
   "cell_type": "code",
   "execution_count": 4,
   "metadata": {},
   "outputs": [],
   "source": [
    "# auto reload module\n",
    "%load_ext autoreload\n",
    "%autoreload 2"
   ]
  },
  {
   "cell_type": "code",
   "execution_count": 57,
   "metadata": {},
   "outputs": [],
   "source": [
    "import pickle\n",
    "from mtr.datasets.waymo.waymo_dataset import WaymoDataset\n",
    "from mtr.datasets.waymo.generate_graph import generate_map_graph\n",
    "from mtr.config import cfg, cfg_from_yaml_file\n",
    "import matplotlib.pyplot as plt\n",
    "import numpy as np\n"
   ]
  },
  {
   "cell_type": "code",
   "execution_count": 6,
   "metadata": {},
   "outputs": [],
   "source": [
    "def load_pickle(file):\n",
    "    with open(file, 'rb') as f:\n",
    "        data = pickle.load(f)\n",
    "    return data"
   ]
  },
  {
   "cell_type": "code",
   "execution_count": 51,
   "metadata": {},
   "outputs": [],
   "source": [
    "cfg_from_yaml_file('/home/zixuzhang/Documents/Git/MTR/tools/cfgs/waymo/eval.yaml', cfg)\n",
    "dataset = WaymoDataset(cfg.DATA_CONFIG, training=False, logger=None)\n"
   ]
  },
  {
   "cell_type": "code",
   "execution_count": 81,
   "metadata": {},
   "outputs": [],
   "source": [
    "sceneario_id = 'c2e7022f68866e23'\n",
    "mtr_path = f'/Data/Dataset/MTR/processed_scenarios_validation/sample_{sceneario_id}.pkl'\n",
    "lpp_path = f'/Data/Dataset/LPP/Validation/scenario_{sceneario_id}.pkl'\n",
    "\n",
    "mtr_info = load_pickle(mtr_path)\n",
    "lpp_info = load_pickle(lpp_path)\n",
    "\n",
    "mtr_data = dataset.extract_scene_data(sceneario_id, mtr_info, 0)\n",
    "\n",
    "infos = mtr_info"
   ]
  },
  {
   "cell_type": "code",
   "execution_count": 84,
   "metadata": {},
   "outputs": [
    {
     "name": "stdout",
     "output_type": "stream",
     "text": [
      "dict_keys(['id', 'lane_ids', 'position', 'polyline_index'])\n"
     ]
    }
   ],
   "source": [
    "lane = mtr_info['map_infos']['stop_sign'][0]\n",
    "print(lane.keys())"
   ]
  },
  {
   "cell_type": "code",
   "execution_count": 87,
   "metadata": {},
   "outputs": [
    {
     "ename": "KeyError",
     "evalue": "'left_boundaries'",
     "output_type": "error",
     "traceback": [
      "\u001b[0;31m---------------------------------------------------------------------------\u001b[0m",
      "\u001b[0;31mKeyError\u001b[0m                                  Traceback (most recent call last)",
      "Cell \u001b[0;32mIn[87], line 1\u001b[0m\n\u001b[0;32m----> 1\u001b[0m generate_map_graph(mtr_info)\n",
      "File \u001b[0;32m~/Documents/Git/MTR/mtr/datasets/waymo/generate_graph.py:362\u001b[0m, in \u001b[0;36mgenerate_map_graph\u001b[0;34m(infos, max_point, max_distance, max_polyline, remove_disconnected, append_stop_sign)\u001b[0m\n\u001b[1;32m    359\u001b[0m             lanelet\u001b[39m.\u001b[39mcenterline\u001b[39m.\u001b[39mresample(num_points_allow)\n\u001b[1;32m    361\u001b[0m         \u001b[39m# add boundary information\u001b[39;00m\n\u001b[0;32m--> 362\u001b[0m         add_boundary_to_lanelet(lane, lanelet, boundary_line_string_dict)\n\u001b[1;32m    364\u001b[0m \u001b[39mreturn\u001b[39;00m lanelet_map\n",
      "File \u001b[0;32m~/Documents/Git/MTR/mtr/datasets/waymo/generate_graph.py:150\u001b[0m, in \u001b[0;36madd_boundary_to_lanelet\u001b[0;34m(lane, lanelet, boundary_line_string_dict)\u001b[0m\n\u001b[1;32m    137\u001b[0m \u001b[39mfor\u001b[39;00m neighbor \u001b[39min\u001b[39;00m lane[\u001b[39m'\u001b[39m\u001b[39mright_neighbors\u001b[39m\u001b[39m'\u001b[39m]:\n\u001b[1;32m    138\u001b[0m     lanelet\u001b[39m.\u001b[39mright_boundary \u001b[39m=\u001b[39m parse_boundary(\n\u001b[1;32m    139\u001b[0m         centerline,\n\u001b[1;32m    140\u001b[0m         lane[\u001b[39m'\u001b[39m\u001b[39mpolyline\u001b[39m\u001b[39m'\u001b[39m],\n\u001b[0;32m   (...)\u001b[0m\n\u001b[1;32m    144\u001b[0m         default_width\u001b[39m=\u001b[39mdefault_width,\n\u001b[1;32m    145\u001b[0m     )\n\u001b[1;32m    147\u001b[0m lanelet\u001b[39m.\u001b[39mleft_boundary \u001b[39m=\u001b[39m parse_boundary(\n\u001b[1;32m    148\u001b[0m     centerline,\n\u001b[1;32m    149\u001b[0m     lane[\u001b[39m'\u001b[39m\u001b[39mpolyline\u001b[39m\u001b[39m'\u001b[39m],\n\u001b[0;32m--> 150\u001b[0m     lane[\u001b[39m'\u001b[39;49m\u001b[39mleft_boundaries\u001b[39;49m\u001b[39m'\u001b[39;49m],\n\u001b[1;32m    151\u001b[0m     boundary_line_string_dict,\n\u001b[1;32m    152\u001b[0m     default_width\u001b[39m=\u001b[39mdefault_width,\n\u001b[1;32m    153\u001b[0m )\n\u001b[1;32m    154\u001b[0m lanelet\u001b[39m.\u001b[39mright_boundary \u001b[39m=\u001b[39m parse_boundary(\n\u001b[1;32m    155\u001b[0m     centerline,\n\u001b[1;32m    156\u001b[0m     lane[\u001b[39m'\u001b[39m\u001b[39mpolyline\u001b[39m\u001b[39m'\u001b[39m],\n\u001b[0;32m   (...)\u001b[0m\n\u001b[1;32m    159\u001b[0m     default_width\u001b[39m=\u001b[39mdefault_width,\n\u001b[1;32m    160\u001b[0m )\n\u001b[1;32m    162\u001b[0m \u001b[39m# HACK: if only one side of the boundary is defined, we assume the other side has the same width\u001b[39;00m\n",
      "\u001b[0;31mKeyError\u001b[0m: 'left_boundaries'"
     ]
    }
   ],
   "source": [
    "generate_map_graph(mtr_info)"
   ]
  }
 ],
 "metadata": {
  "kernelspec": {
   "display_name": "lpp",
   "language": "python",
   "name": "python3"
  },
  "language_info": {
   "codemirror_mode": {
    "name": "ipython",
    "version": 3
   },
   "file_extension": ".py",
   "mimetype": "text/x-python",
   "name": "python",
   "nbconvert_exporter": "python",
   "pygments_lexer": "ipython3",
   "version": "3.9.16"
  },
  "orig_nbformat": 4
 },
 "nbformat": 4,
 "nbformat_minor": 2
}
