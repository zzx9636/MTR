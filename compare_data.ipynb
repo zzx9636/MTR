{
 "cells": [
  {
   "cell_type": "code",
   "execution_count": 4,
   "metadata": {},
   "outputs": [],
   "source": [
    "# auto reload module\n",
    "%load_ext autoreload\n",
    "%autoreload 2"
   ]
  },
  {
   "cell_type": "code",
   "execution_count": 57,
   "metadata": {},
   "outputs": [],
   "source": [
    "import pickle\n",
    "from mtr.datasets.waymo.waymo_dataset import WaymoDataset\n",
    "from mtr.datasets.waymo.generate_graph import generate_map_graph\n",
    "from mtr.config import cfg, cfg_from_yaml_file\n",
    "import matplotlib.pyplot as plt\n",
    "import numpy as np\n"
   ]
  },
  {
   "cell_type": "code",
   "execution_count": 6,
   "metadata": {},
   "outputs": [],
   "source": [
    "def load_pickle(file):\n",
    "    with open(file, 'rb') as f:\n",
    "        data = pickle.load(f)\n",
    "    return data"
   ]
  },
  {
   "cell_type": "code",
   "execution_count": 51,
   "metadata": {},
   "outputs": [],
   "source": [
    "cfg_from_yaml_file('/home/zixuzhang/Documents/Git/MTR/tools/cfgs/waymo/eval.yaml', cfg)\n",
    "dataset = WaymoDataset(cfg.DATA_CONFIG, training=False, logger=None)\n"
   ]
  },
  {
   "cell_type": "code",
   "execution_count": 81,
   "metadata": {},
   "outputs": [],
   "source": [
    "sceneario_id = 'c2e7022f68866e23'\n",
    "mtr_path = f'/Data/Dataset/MTR/processed_scenarios_validation/sample_{sceneario_id}.pkl'\n",
    "lpp_path = f'/Data/Dataset/LPP/Validation/scenario_{sceneario_id}.pkl'\n",
    "\n",
    "mtr_info = load_pickle(mtr_path)\n",
    "lpp_info = load_pickle(lpp_path)\n",
    "\n",
    "mtr_data = dataset.extract_scene_data(sceneario_id, mtr_info, 0)\n",
    "\n",
    "infos = mtr_info"
   ]
  },
  {
   "cell_type": "code",
   "execution_count": 94,
   "metadata": {},
   "outputs": [
    {
     "name": "stdout",
     "output_type": "stream",
     "text": [
      "[]\n"
     ]
    }
   ],
   "source": [
    "print(mtr_info['map_infos']['lane'][80]['right_neighbors'])\n"
   ]
  },
  {
   "cell_type": "code",
   "execution_count": 95,
   "metadata": {},
   "outputs": [
    {
     "name": "stderr",
     "output_type": "stream",
     "text": [
      "/home/zixuzhang/Documents/Git/MTR/mtr/datasets/waymo/pylanelet/linestring.py:31: UserWarning: Error when creating spline for LineString 480: LineString 480 has less than 2 unique points\n",
      "  warnings.warn(f'Error when creating spline for LineString {self.feature_id}: {e}')\n"
     ]
    },
    {
     "data": {
      "text/plain": [
       "<mtr.datasets.waymo.pylanelet.lanelet_map.PyLaneletMap at 0x7febb01a2280>"
      ]
     },
     "execution_count": 95,
     "metadata": {},
     "output_type": "execute_result"
    }
   ],
   "source": [
    "generate_map_graph(mtr_info)"
   ]
  }
 ],
 "metadata": {
  "kernelspec": {
   "display_name": "lpp",
   "language": "python",
   "name": "python3"
  },
  "language_info": {
   "codemirror_mode": {
    "name": "ipython",
    "version": 3
   },
   "file_extension": ".py",
   "mimetype": "text/x-python",
   "name": "python",
   "nbconvert_exporter": "python",
   "pygments_lexer": "ipython3",
   "version": "3.9.16"
  },
  "orig_nbformat": 4
 },
 "nbformat": 4,
 "nbformat_minor": 2
}
