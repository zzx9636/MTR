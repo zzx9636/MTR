{
 "cells": [
  {
   "cell_type": "code",
   "execution_count": 28,
   "metadata": {},
   "outputs": [
    {
     "name": "stdout",
     "output_type": "stream",
     "text": [
      "The autoreload extension is already loaded. To reload it, use:\n",
      "  %reload_ext autoreload\n"
     ]
    }
   ],
   "source": [
    "# Automatic reload of modules when they change\n",
    "%load_ext autoreload\n",
    "%autoreload 2"
   ]
  },
  {
   "cell_type": "code",
   "execution_count": 29,
   "metadata": {},
   "outputs": [],
   "source": [
    "import numpy as np\n",
    "import torch\n",
    "import scipy \n",
    "from theseus import SE2"
   ]
  },
  {
   "cell_type": "code",
   "execution_count": 30,
   "metadata": {},
   "outputs": [],
   "source": [
    "def log_map(x_y_theta):\n",
    "    # This function is used to convert SE(2) into se(2) by logarithm map\n",
    "    x, y, theta = x_y_theta[..., 0], x_y_theta[..., 1], x_y_theta[..., 2]\n",
    "    cosine = torch.cos(theta)\n",
    "    sine = torch.sin(theta)\n",
    "    theta = torch.atan2(sine, cosine)\n",
    "    \n",
    "    small_theta = theta.abs() < 1e-3\n",
    "    \n",
    "    non_zero = torch.ones(1, dtype=theta.dtype, device=theta.device)\n",
    "    sine_nz = torch.where(small_theta, non_zero, sine)\n",
    "    \n",
    "    half_theta_by_tan_half_theta = (\n",
    "        0.5\n",
    "        * (1 + cosine)\n",
    "        * torch.where(small_theta, 1 + sine**2 / 6, theta / sine_nz)\n",
    "    )\n",
    "    half_theta = 0.5 * theta\n",
    "    \n",
    "    # Compute the translation\n",
    "    ux = half_theta_by_tan_half_theta * x + half_theta * y\n",
    "    uy = half_theta_by_tan_half_theta * y - half_theta * x\n",
    "    \n",
    "    return torch.stack((ux, uy, theta), dim=-1)"
   ]
  },
  {
   "cell_type": "code",
   "execution_count": 31,
   "metadata": {},
   "outputs": [],
   "source": [
    "def T_matrix(x_y_theta):\n",
    "    matrix_shape = x_y_theta.shape[:-1] + (3, 3)\n",
    "    # Initialize the identity matrix\n",
    "    T = np.zeros(matrix_shape, dtype=x_y_theta.dtype)\n",
    "    T[..., 0, 0] = 1\n",
    "    T[..., 1, 1] = 1\n",
    "    T[..., 2, 2] = 1\n",
    "    \n",
    "    # Compute the rotation matrix\n",
    "    theta = x_y_theta[..., 2]\n",
    "    cosine = np.cos(theta)\n",
    "    sine = np.sin(theta)\n",
    "    T[..., 0, 0] = cosine\n",
    "    T[..., 0, 1] = -sine\n",
    "    T[..., 1, 0] = sine\n",
    "    T[..., 1, 1] = cosine\n",
    "    \n",
    "    # Compute the translation matrix\n",
    "    x, y = x_y_theta[..., 0], x_y_theta[..., 1]\n",
    "    T[..., 0, 2] = x\n",
    "    T[..., 1, 2] = y\n",
    "    \n",
    "    return T"
   ]
  },
  {
   "cell_type": "code",
   "execution_count": 36,
   "metadata": {},
   "outputs": [],
   "source": [
    "vec = np.random.uniform(low = -np.pi, high = np.pi, size=(10, 3))\n",
    "vec_torch = torch.from_numpy(vec)\n",
    "\n",
    "se2 = SE2(x_y_theta=vec_torch)\n",
    "\n",
    "T_list = T_matrix(vec)\n",
    "\n",
    "t_scipy = np.zeros_like(vec)\n",
    "for i, T in enumerate(T_list):\n",
    "    t_hat = scipy.linalg.logm(T)\n",
    "    t_scipy[i] = np.array([t_hat[0, 2], t_hat[1, 2], t_hat[1, 0]])\n",
    "\n",
    "t_thesus = se2.log_map().numpy()\n",
    "t_imp = log_map(vec_torch).numpy()"
   ]
  },
  {
   "cell_type": "code",
   "execution_count": 37,
   "metadata": {},
   "outputs": [
    {
     "name": "stdout",
     "output_type": "stream",
     "text": [
      "[[-0.9902846  -2.3865215   1.0502493 ]\n",
      " [ 1.32199835 -2.6564474   1.36559603]\n",
      " [-2.87696039  0.60465853 -0.22798945]\n",
      " [ 2.74885381 -0.97105584 -0.62022277]\n",
      " [ 0.91989462 -1.05373842 -0.70613813]\n",
      " [-0.56962287  3.4600836   1.41243681]\n",
      " [-3.47329162  0.08442632  2.79023557]\n",
      " [-1.29801264 -1.419597    0.89781615]\n",
      " [ 1.15252262 -3.00301786  0.17998338]\n",
      " [-0.20106348  1.30075144 -1.94377497]]\n"
     ]
    }
   ],
   "source": [
    "print(t_scipy)"
   ]
  },
  {
   "cell_type": "code",
   "execution_count": 38,
   "metadata": {},
   "outputs": [],
   "source": [
    "error1 = np.abs(t_scipy - t_imp)\n",
    "error2 = np.abs(t_scipy - t_thesus)\n",
    "error3 = np.abs(t_imp - t_thesus)"
   ]
  },
  {
   "cell_type": "code",
   "execution_count": 39,
   "metadata": {},
   "outputs": [
    {
     "name": "stdout",
     "output_type": "stream",
     "text": [
      "[[2.22044605e-16 0.00000000e+00 0.00000000e+00]\n",
      " [6.66133815e-16 8.88178420e-16 0.00000000e+00]\n",
      " [0.00000000e+00 1.11022302e-16 5.55111512e-17]\n",
      " [4.44089210e-16 1.11022302e-16 3.33066907e-16]\n",
      " [2.22044605e-16 2.22044605e-16 1.11022302e-16]\n",
      " [1.11022302e-16 4.44089210e-16 2.22044605e-16]\n",
      " [0.00000000e+00 5.55111512e-16 8.88178420e-16]\n",
      " [4.44089210e-16 0.00000000e+00 3.33066907e-16]\n",
      " [4.44089210e-16 4.44089210e-16 8.32667268e-17]\n",
      " [2.22044605e-16 6.66133815e-16 2.22044605e-16]] [[2.22044605e-16 0.00000000e+00 0.00000000e+00]\n",
      " [6.66133815e-16 8.88178420e-16 0.00000000e+00]\n",
      " [0.00000000e+00 1.11022302e-16 5.55111512e-17]\n",
      " [4.44089210e-16 1.11022302e-16 3.33066907e-16]\n",
      " [2.22044605e-16 2.22044605e-16 1.11022302e-16]\n",
      " [1.11022302e-16 4.44089210e-16 2.22044605e-16]\n",
      " [0.00000000e+00 5.55111512e-16 8.88178420e-16]\n",
      " [4.44089210e-16 0.00000000e+00 3.33066907e-16]\n",
      " [4.44089210e-16 4.44089210e-16 8.32667268e-17]\n",
      " [2.22044605e-16 6.66133815e-16 2.22044605e-16]] [[0. 0. 0.]\n",
      " [0. 0. 0.]\n",
      " [0. 0. 0.]\n",
      " [0. 0. 0.]\n",
      " [0. 0. 0.]\n",
      " [0. 0. 0.]\n",
      " [0. 0. 0.]\n",
      " [0. 0. 0.]\n",
      " [0. 0. 0.]\n",
      " [0. 0. 0.]]\n"
     ]
    }
   ],
   "source": [
    "print(error1, error2, error3)"
   ]
  },
  {
   "cell_type": "code",
   "execution_count": 2,
   "metadata": {},
   "outputs": [],
   "source": [
    "import torch\n",
    "\n",
    "a = torch.randn(64, 32, 3, 1)\n",
    "b = torch.randn(64, 32, 3, 3)\n",
    "\n",
    "\n",
    "r = torch.einsum('bmij, bmjk->bmik',\n",
    "                torch.einsum('bmij, bmik->bmjk', a, b),\n",
    "                a).unsqueeze(-1).unsqueeze(-1)"
   ]
  },
  {
   "cell_type": "code",
   "execution_count": 7,
   "metadata": {},
   "outputs": [
    {
     "data": {
      "text/plain": [
       "tensor([[[[0.]]]])"
      ]
     },
     "execution_count": 7,
     "metadata": {},
     "output_type": "execute_result"
    }
   ],
   "source": [
    "i = 8\n",
    "j = 31\n",
    "a[i,j].T @ b[i,j] @ a[i,j] - r[i,j]"
   ]
  }
 ],
 "metadata": {
  "kernelspec": {
   "display_name": "lpp",
   "language": "python",
   "name": "python3"
  },
  "language_info": {
   "codemirror_mode": {
    "name": "ipython",
    "version": 3
   },
   "file_extension": ".py",
   "mimetype": "text/x-python",
   "name": "python",
   "nbconvert_exporter": "python",
   "pygments_lexer": "ipython3",
   "version": "3.9.16"
  },
  "orig_nbformat": 4
 },
 "nbformat": 4,
 "nbformat_minor": 2
}
