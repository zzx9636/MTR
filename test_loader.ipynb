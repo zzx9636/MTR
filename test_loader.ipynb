{
 "cells": [
  {
   "cell_type": "code",
   "execution_count": 1,
   "metadata": {},
   "outputs": [],
   "source": [
    "# autoreload module\n",
    "# https://stackoverflow.com/questions/1907993/autoreload-of-modules-in-ipython\n",
    "%load_ext autoreload\n",
    "%autoreload 2"
   ]
  },
  {
   "cell_type": "code",
   "execution_count": 2,
   "metadata": {},
   "outputs": [
    {
     "name": "stderr",
     "output_type": "stream",
     "text": [
      "2023-12-15 15:20:30.139842: W tensorflow/compiler/xla/stream_executor/platform/default/dso_loader.cc:64] Could not load dynamic library 'libnvinfer.so.7'; dlerror: libnvinfer.so.7: cannot open shared object file: No such file or directory\n",
      "2023-12-15 15:20:30.139870: W tensorflow/compiler/xla/stream_executor/platform/default/dso_loader.cc:64] Could not load dynamic library 'libnvinfer_plugin.so.7'; dlerror: libnvinfer_plugin.so.7: cannot open shared object file: No such file or directory\n",
      "2023-12-15 15:20:30.139873: W tensorflow/compiler/tf2tensorrt/utils/py_utils.cc:38] TF-TRT Warning: Cannot dlopen some TensorRT libraries. If you would like to use Nvidia GPU with TensorRT, please make sure the missing libraries mentioned above are installed properly.\n"
     ]
    }
   ],
   "source": [
    "import numpy as np\n",
    "import torch\n",
    "from mtr.utils import common_utils\n",
    "from waymax import datatypes\n",
    "from waymax.agents import actor_core\n",
    "from waymax import dataloader\n",
    "from waymax import config as waymax_config\n",
    "import tensorflow as tf\n",
    "# turn off GPU in tensorflow\n",
    "tf.config.experimental.set_visible_devices([], \"GPU\")\n",
    "import numpy as np\n",
    "import jax\n",
    "from jax import numpy as jnp\n",
    "# set jax device as cpu\n",
    "jax.config.update(\"jax_platform_name\", \"cpu\")\n",
    "# from rl_env.env_utils import *\n",
    "from typing import Dict, Tuple, List\n",
    "from torch.utils.data import IterableDataset\n",
    "from waymax.dynamics import bicycle_model\n",
    "from tqdm import tqdm\n",
    "import glob \n",
    "import os\n",
    "\n",
    "base_path = '/Data/Dataset/Waymo/V1_2_tf/training/'\n",
    "file_list = sorted(glob.glob(os.path.join(base_path, '*.tfrecord*')))\n"
   ]
  },
  {
   "cell_type": "code",
   "execution_count": 3,
   "metadata": {},
   "outputs": [],
   "source": [
    "def preprocess(\n",
    "    serialized: bytes\n",
    ") -> dict[str, tf.Tensor]:\n",
    "    womd_features = dataloader.womd_utils.get_features_description(\n",
    "        include_sdc_paths=False,\n",
    "        max_num_rg_points=30000,\n",
    "        num_paths=None,\n",
    "        num_points_per_path=None,\n",
    "    )\n",
    "    womd_features['scenario/id'] = tf.io.FixedLenFeature([1], tf.string)\n",
    "\n",
    "    deserialized = tf.io.parse_example(serialized, womd_features)\n",
    "    parsed_id = deserialized.pop('scenario/id')\n",
    "    deserialized['scenario/id'] = tf.io.decode_raw(parsed_id, tf.uint8)\n",
    "    return dataloader.preprocess_womd_example(\n",
    "        deserialized,\n",
    "        aggregate_timesteps=True,\n",
    "        max_num_objects=32,\n",
    "    )\n",
    "\n",
    "@jax.jit\n",
    "def postprocess(example: dict[str, tf.Tensor]):\n",
    "    scenario = dataloader.simulator_state_from_womd_dict(example)\n",
    "    scenario_id = example['scenario/id']\n",
    "    return scenario_id, scenario\n",
    "    \n"
   ]
  },
  {
   "cell_type": "code",
   "execution_count": 7,
   "metadata": {},
   "outputs": [],
   "source": [
    "fileidx = 2\n",
    "cur_file = file_list[fileidx]\n",
    "filename = cur_file.split('/')[-1]\n",
    "\n",
    "def test():\n",
    "  tf_dataset = dataloader.tf_examples_dataset(\n",
    "    path=cur_file,\n",
    "    data_format=waymax_config.DataFormat.TFRECORD,\n",
    "    preprocess_fn=preprocess,\n",
    "    repeat=1,\n",
    "    num_shards=4,\n",
    "    deterministic=True,\n",
    "  )\n",
    "  return tf_dataset\n",
    "\n",
    "temp = []\n",
    "for _ in range(100):\n",
    "  temp.append(test())"
   ]
  },
  {
   "cell_type": "code",
   "execution_count": 74,
   "metadata": {},
   "outputs": [],
   "source": [
    "@jax.jit\n",
    "def find_all_valid(scenario: datatypes.SimulatorState):\n",
    "    \"\"\"\n",
    "    Finds all valid objects that are vehicles and are moving in the given scenario.\n",
    "\n",
    "    Parameters:\n",
    "    - scenario: datatypes.SimulatorState\n",
    "        The simulator state containing object metadata and trajectory information.\n",
    "\n",
    "    Returns:\n",
    "    - is_valid_vehicle_moving: bool\n",
    "        A boolean array indicating whether each object is valid, a vehicle, and moving.\n",
    "    \"\"\"\n",
    "    \n",
    "    # is_sdc = scenario.object_metadata.is_sdc\n",
    "    # is_modeled = scenario.object_metadata.is_modeled\n",
    "    is_valid = scenario.object_metadata.is_valid\n",
    "    is_vehicle = scenario.object_metadata.object_types == 1\n",
    "    \n",
    "    v_x_log = scenario.log_trajectory.vel_x # [num_agents, num_steps]\n",
    "    v_y_log = scenario.log_trajectory.vel_y # [num_agents, num_steps]\n",
    "    valid_log = scenario.log_trajectory.valid\n",
    "    v_x_log = jnp.where(valid_log, v_x_log, 0)\n",
    "    v_y_log = jnp.where(valid_log, v_y_log, 0)\n",
    "    v_log = jnp.linalg.norm(jnp.stack([v_x_log, v_y_log], axis=-1), axis=-1)\n",
    "    v_max = jnp.max(v_log, axis=-1)\n",
    "    is_moving = v_max > 0.1\n",
    "    \n",
    "    return is_valid & is_vehicle & is_moving\n",
    "\n",
    "@jax.jit\n",
    "def find_pred(scenario: datatypes.SimulatorState):\n",
    "    \"\"\"\n",
    "    Finds the predicted scenario based on the given SimulatorState.\n",
    "\n",
    "    Parameters:\n",
    "    - scenario: datatypes.SimulatorState\n",
    "        The simulator state containing the scenario information.\n",
    "\n",
    "    Returns:\n",
    "    - bool\n",
    "        True if the scenario is predicted, False otherwise.\n",
    "    \"\"\"\n",
    "    is_sdc = scenario.object_metadata.is_sdc\n",
    "    is_modeled = scenario.object_metadata.is_modeled\n",
    "    is_vehicle = scenario.object_metadata.object_types == 1\n",
    "    \n",
    "    return is_sdc & is_modeled & is_vehicle\n",
    "\n",
    "@jax.jit\n",
    "def find_grid(scenario, t, interest_agent, accel_grid, steer_grid):\n",
    "    \"\"\"\n",
    "    Finds the grid indices for the given scenario, time step, and validity conditions.\n",
    "\n",
    "    Args:\n",
    "        scenario: The scenario object.\n",
    "        t: The time step.\n",
    "        interest_agent: (num_agent,) A boolean array indicating the validity of each action.\n",
    "        accel_grid: (num_accel_bins,) A 1D array containing the acceleration grid values.\n",
    "        steer_grid: (num_steer_bins,) A 1D array containing the steering grid values.\n",
    "\n",
    "    Returns:\n",
    "        (num_agent, 3), A 2D array containing the grid indices and validity information.\n",
    "    \"\"\"\n",
    "    \n",
    "    action = bicycle_model.compute_inverse(scenario.log_trajectory, t)\n",
    "    \n",
    "    action_valid = action.valid.reshape(-1) & \\\n",
    "        (jnp.abs(action.data[:, 0]) < 15) & \\\n",
    "        (jnp.abs(action.data[:, 1]) < 0.45) & \\\n",
    "        interest_agent\n",
    "    \n",
    "    accel_idx = jnp.searchsorted(accel_grid, action.data[:, 0])\n",
    "    steer_idx = jnp.searchsorted(steer_grid, action.data[:, 1])\n",
    "    \n",
    "    return jnp.stack([accel_idx, steer_idx, action_valid], axis=-1)\n",
    "\n",
    "def record_cache(key, dest, grid_idx, fileidx, scenario_idx):\n",
    "    i, j = key\n",
    "    t_idx_array, a_idx_array = np.where(\n",
    "        (grid_idx[:, :, 0] == i) &\n",
    "        (grid_idx[:, :, 1] == j) &\n",
    "        (grid_idx[:, :, 2] == 1)\n",
    "    )\n",
    "    fileidx_array = np.ones_like(t_idx_array, dtype=int)*fileidx\n",
    "    scenario_idx_array = np.ones_like(t_idx_array, dtype=int)*scenario_idx\n",
    "    match_idx = np.stack([fileidx_array,scenario_idx_array, t_idx_array, a_idx_array], axis=-1)\n",
    "    dest.extend(match_idx.tolist())\n",
    "    \n",
    "    "
   ]
  },
  {
   "cell_type": "code",
   "execution_count": 75,
   "metadata": {},
   "outputs": [],
   "source": [
    "accel_grid = jnp.linspace(-10, 10, 20)\n",
    "steer_grid = jnp.linspace(-0.3, 0.3, 20)\n",
    "\n",
    "idx_cache = {}\n",
    "for i in range(len(accel_grid)):\n",
    "    for j in range(len(steer_grid)):\n",
    "        idx_cache[(i, j)] = []"
   ]
  },
  {
   "cell_type": "code",
   "execution_count": 76,
   "metadata": {},
   "outputs": [
    {
     "name": "stderr",
     "output_type": "stream",
     "text": [
      "471it [00:04, 97.99it/s] \n"
     ]
    }
   ],
   "source": [
    "full_iter = tf_dataset.as_numpy_iterator()\n",
    "\n",
    "for scenario_idx, example in tqdm(enumerate(full_iter)):\n",
    "    scenario_id_binary, scenario = postprocess(example)\n",
    "    scenario_id = scenario_id_binary.tobytes().decode('utf-8')\n",
    "    scenario: datatypes.SimulatorState\n",
    "    interest_agent = find_pred(scenario)\n",
    "    \n",
    "    # Find corresponding grid indices of each agnet at each time step of the scenario\n",
    "    grid_idx = jax.vmap(find_grid, in_axes=(None, 0, None, None, None))(scenario, jnp.arange(90), interest_agent, accel_grid, steer_grid)\n",
    "    grid_idx = np.asarray(grid_idx)\n",
    "    for key, dest in idx_cache.items():\n",
    "        record_cache(key, dest, grid_idx, fileidx, scenario_idx)"
   ]
  },
  {
   "cell_type": "code",
   "execution_count": 77,
   "metadata": {},
   "outputs": [],
   "source": [
    "histogram = np.zeros((len(accel_grid), len(steer_grid)), dtype=int)\n",
    "for key, dest in idx_cache.items():\n",
    "    i,j = key\n",
    "    histogram[i,j] = len(dest)"
   ]
  },
  {
   "cell_type": "code",
   "execution_count": 93,
   "metadata": {},
   "outputs": [
    {
     "name": "stdout",
     "output_type": "stream",
     "text": [
      "[[2, 107, 49, 1], [2, 301, 13, 3], [2, 425, 78, 6]]\n"
     ]
    }
   ],
   "source": [
    "print()"
   ]
  },
  {
   "cell_type": "code",
   "execution_count": 101,
   "metadata": {},
   "outputs": [
    {
     "data": {
      "text/plain": [
       "(Array(-1.5789472, dtype=float32), Array(-0.11052632, dtype=float32))"
      ]
     },
     "execution_count": 101,
     "metadata": {},
     "output_type": "execute_result"
    }
   ],
   "source": [
    "accel_grid[8], steer_grid[6]"
   ]
  },
  {
   "cell_type": "code",
   "execution_count": 108,
   "metadata": {},
   "outputs": [
    {
     "data": {
      "text/plain": [
       "(Array(7, dtype=int32), Array(9, dtype=int32))"
      ]
     },
     "execution_count": 108,
     "metadata": {},
     "output_type": "execute_result"
    }
   ],
   "source": [
    "# retrive scenario verify\n",
    "\n",
    "cache = idx_cache[(7, 9)][2]\n",
    "scenario_idx = cache[1]\n",
    "t_idx = cache[2]\n",
    "a_idx = cache[3]\n",
    "\n",
    "example = next(tf_dataset.skip(scenario_idx).take(1).as_numpy_iterator())\n",
    "scenario_id_binary, scenario = postprocess(example)\n",
    "scenario_id = scenario_id_binary.tobytes().decode('utf-8')\n",
    "\n",
    "action = bicycle_model.compute_inverse(scenario.log_trajectory, t_idx)\n",
    "jnp.searchsorted(accel_grid, action.data[a_idx, 0]), jnp.searchsorted(steer_grid, action.data[a_idx, 1])"
   ]
  },
  {
   "cell_type": "code",
   "execution_count": 90,
   "metadata": {},
   "outputs": [
    {
     "data": {
      "image/png": "[encoded data removed]",
      "text/plain": [
       "<Figure size 640x480 with 2 Axes>"
      ]
     },
     "metadata": {},
     "output_type": "display_data"
    }
   ],
   "source": [
    "# display histogram\n",
    "import matplotlib.pyplot as plt\n",
    "plt.imshow(np.log(histogram+1), extent=[-10, 10, -0.3, 0.3], origin='lower', aspect='auto')\n",
    "plt.xlabel('acceleration')\n",
    "plt.ylabel('steering')\n",
    "plt.colorbar()\n",
    "plt.show()\n",
    "\n"
   ]
  }
 ],
 "metadata": {
  "kernelspec": {
   "display_name": "waymax",
   "language": "python",
   "name": "python3"
  },
  "language_info": {
   "codemirror_mode": {
    "name": "ipython",
    "version": 3
   },
   "file_extension": ".py",
   "mimetype": "text/x-python",
   "name": "python",
   "nbconvert_exporter": "python",
   "pygments_lexer": "ipython3",
   "version": "3.10.13"
  }
 },
 "nbformat": 4,
 "nbformat_minor": 2
}
