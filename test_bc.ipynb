{
 "cells": [
  {
   "cell_type": "code",
   "execution_count": null,
   "metadata": {},
   "outputs": [],
   "source": [
    "%load_ext autoreload\n",
    "%autoreload 2"
   ]
  },
  {
   "cell_type": "code",
   "execution_count": null,
   "metadata": {},
   "outputs": [],
   "source": [
    "import os\n",
    "os.environ['TF_CPP_MIN_LOG_LEVEL'] = '3'\n",
    "\n",
    "import tensorflow as tf\n",
    "# set tf to cpu only\n",
    "tf.config.set_visible_devices([], 'GPU')\n",
    "\n",
    "import jax\n",
    "jax.config.update('jax_platform_name', 'cpu')\n",
    "\n",
    "\n",
    "from typing import Any\n",
    "import numpy as np\n",
    "import matplotlib.pyplot as plt \n",
    "import torch\n",
    "from torch.utils.data import DataLoader\n",
    "\n",
    "from mtr.config import cfg, cfg_from_yaml_file\n",
    "\n",
    "from bc.behavior_cloning import BehaviorCloning\n",
    "from bc.bc_dataset import BCDataset\n",
    "\n",
    "from rl_env.env_utils import inverse_unicycle_control,smooth_scenario\n",
    "\n",
    "torch.set_float32_matmul_precision('high')\n",
    "\n"
   ]
  },
  {
   "cell_type": "code",
   "execution_count": null,
   "metadata": {},
   "outputs": [],
   "source": [
    "# fake dataset\n",
    "from waymax import config as _config\n",
    "from waymax import visualization\n",
    "from rl_env.waymax_util import WomdLoader\n",
    "from rl_env.env_utils import merge_dict, process_input\n",
    "import mediapy\n",
    "\n",
    "WOMD_1_2_0_VAL_LOCAL = _config.DatasetConfig(\n",
    "    # path='/Data/Dataset/Waymo/V1_2_tf/validation_interactive/validation_interactive_tfexample.tfrecord@150',\n",
    "    path='/Data/Dataset/Waymo/V1_2_tf/validation/validation_tfexample.tfrecord@150',\n",
    "    # path='/Data/Dataset/Waymo/V1_2_tf/training/training_tfexample.tfrecord@1000',\n",
    "    max_num_rg_points=30000,\n",
    "    data_format=_config.DataFormat.TFRECORD,\n",
    "    max_num_objects=32,\n",
    "    shuffle_seed = 0,\n",
    ")\n",
    "data_iter = WomdLoader(data_config=WOMD_1_2_0_VAL_LOCAL)"
   ]
  },
  {
   "cell_type": "markdown",
   "metadata": {},
   "source": [
    "# Test with Discrete"
   ]
  },
  {
   "cell_type": "code",
   "execution_count": null,
   "metadata": {},
   "outputs": [],
   "source": [
    "cfg_file = 'tools/cfgs/waymo/bc_atten_discrete.yaml'\n",
    "cfg_from_yaml_file(cfg_file, cfg)\n",
    "\n",
    "model_path = 'output/bc_discrete_4_freeze/epoch=0-step=145000.ckpt'\n",
    "\n",
    "BC = BehaviorCloning.load_from_checkpoint(model_path, map_location='cpu')\n",
    "\n",
    "_ = BC.to('cuda')\n",
    "_ = BC.eval()\n",
    "\n",
    "\n",
    "BC.decoder.pred_all_layers = False"
   ]
  },
  {
   "cell_type": "code",
   "execution_count": null,
   "metadata": {},
   "outputs": [],
   "source": [
    "scenario_id, scenario = data_iter.next()\n",
    "img = visualization.plot_simulator_state(scenario, use_log_traj=True, highlight_obj = _config.ObjectType.MODELED)\n",
    "mediapy.show_image(img)"
   ]
  },
  {
   "cell_type": "code",
   "execution_count": null,
   "metadata": {},
   "outputs": [],
   "source": [
    "num_agent = len(scenario.object_metadata.is_sdc)\n",
    "is_ctrl = np.zeros(num_agent, dtype=bool)\n",
    "a = 0\n",
    "is_ctrl[a] = True\n",
    "t= 10"
   ]
  },
  {
   "cell_type": "code",
   "execution_count": null,
   "metadata": {},
   "outputs": [],
   "source": [
    "print(t)\n",
    "input = process_input(\n",
    "    scenario,\n",
    "    is_ctrl,\n",
    "    from_gt=True,\n",
    "    current_time_index=t,\n",
    "    hide_history=11\n",
    "    )\n",
    "\n",
    "gt_action, action_valid = inverse_unicycle_control(scenario)\n",
    "\n",
    "# gt_action = np.asarray(\n",
    "# compute_inverse(scenario.log_trajectory, t, estimate_yaw_with_velocity=True).data[is_ctrl]\n",
    "# )\n",
    "input['gt_action'] = gt_action[a, t:t+1]\n",
    "batch = merge_dict([input], 'cuda')\n",
    "\n",
    "BC.zero_grad()\n",
    "with torch.no_grad():\n",
    "    encoder_output = BC.encoder(batch, retain_input=True)\n",
    "    decoder_output = BC.decoder(encoder_output)\n",
    "    total_loss_best, tb_dict_best = BC.decoder.get_loss(decoder_output, debug = True)\n",
    "\n",
    "print('Sample', BC.decoder.sample(decoder_output, True))\n",
    "\n",
    "print('best', total_loss_best)\n",
    "print(tb_dict_best)\n",
    "\n",
    "t += 1"
   ]
  },
  {
   "cell_type": "markdown",
   "metadata": {},
   "source": [
    "# Test with Control\n",
    "\n"
   ]
  },
  {
   "cell_type": "code",
   "execution_count": null,
   "metadata": {},
   "outputs": [],
   "source": [
    "cfg_file = 'tools/cfgs/waymo/bc_atten_ctrl.yaml'\n",
    "cfg_from_yaml_file(cfg_file, cfg)\n",
    "\n",
    "model_path = 'output/bc_bicycle_4_freeze/epoch=0-step=15000-v1.ckpt'\n",
    "\n",
    "BC = BehaviorCloning.load_from_checkpoint(model_path, map_location='cpu')\n",
    "_ = BC.to('cuda')\n",
    "_ = BC.eval()"
   ]
  },
  {
   "cell_type": "code",
   "execution_count": null,
   "metadata": {},
   "outputs": [],
   "source": [
    "scenario_id, scenario = data_iter.next()\n",
    "img = visualization.plot_simulator_state(scenario, use_log_traj=True, highlight_obj = _config.ObjectType.MODELED)\n",
    "mediapy.show_image(img)"
   ]
  },
  {
   "cell_type": "code",
   "execution_count": null,
   "metadata": {},
   "outputs": [],
   "source": [
    "smoothed_scenario = smooth_scenario(scenario, duplicate=True)\n",
    "gt_action, gt_valid = inverse_unicycle_control(smoothed_scenario)"
   ]
  },
  {
   "cell_type": "code",
   "execution_count": null,
   "metadata": {},
   "outputs": [],
   "source": [
    "num_agent = len(scenario.object_metadata.is_sdc)\n",
    "is_ctrl = np.zeros(num_agent, dtype=bool)\n",
    "a = 1\n",
    "is_ctrl[a] = True\n",
    "t= 1"
   ]
  },
  {
   "cell_type": "code",
   "execution_count": null,
   "metadata": {},
   "outputs": [],
   "source": [
    "input = process_input(\n",
    "    smoothed_scenario,\n",
    "    is_ctrl,\n",
    "    from_gt=True,\n",
    "    current_time_index=t,\n",
    "    hide_history=1\n",
    ")\n",
    "input['gt_action'] = gt_action[a, t:t+1]\n",
    "batch = merge_dict([input], 'cuda')\n",
    "\n",
    "BC.zero_grad()\n",
    "with torch.no_grad():\n",
    "    encoder_output = BC.encoder(batch, retain_input=True)\n",
    "    decoder_output = BC.decoder(encoder_output)\n",
    "    total_loss_best, tb_dict_best = BC.decoder.get_loss_best(decoder_output, debug = True)\n",
    "    # build GMM\n",
    "    (pred_states, pred_scores) = decoder_output['pred_list'][-1]\n",
    "    mode, mix, gmm = BC.decoder.build_gmm_distribution(pred_states, pred_scores)\n",
    "    \n",
    "A_scale = np.diag(BC.decoder.output_std.cpu().detach().numpy())\n",
    "    \n",
    "print('Sample', BC.decoder.sample(decoder_output, False))\n",
    "\n",
    "print('best', total_loss_best)\n",
    "print(tb_dict_best)"
   ]
  },
  {
   "cell_type": "code",
   "execution_count": null,
   "metadata": {},
   "outputs": [],
   "source": [
    "import numpy as np\n",
    "import matplotlib.pyplot as plt\n",
    "from scipy.stats import multivariate_normal\n",
    "\n",
    "weights = mix.probs[0].cpu().detach().numpy()\n",
    "# weights = np.ones((6,))/6\n",
    "means = mode.loc[0].cpu().detach().numpy()\n",
    "covariances = mode.covariance_matrix[0].cpu().detach().numpy()\n",
    "\n",
    "means = means@A_scale + BC.decoder.output_mean.cpu().detach().numpy()\n",
    "covariances = A_scale@covariances@A_scale\n",
    "\n",
    "# Generate a grid of points to evaluate the contour\n",
    "x = np.linspace(-8, 8, 100)\n",
    "y = np.linspace(-0.8, 0.8, 100)\n",
    "X, Y = np.meshgrid(x, y)\n",
    "pos = np.dstack((X, Y))\n",
    "\n",
    "# Evaluate the PDF (probability density function) of the SciPy GMM at each point\n",
    "Z = np.zeros_like(X)\n",
    "for i in range(len(weights)):\n",
    "    Z += weights[i]*multivariate_normal.pdf(pos, mean=means[i], cov=covariances[i])\n",
    "    # Z += multivariate_normal.pdf(pos, mean=means[i], cov=covariances[i])\n",
    "\n",
    "# Plot the contour\n",
    "CS = plt.contour(X, Y, np.log(Z), levels = np.linspace(-2, 5, 5), alpha = 0.5)\n",
    "CSF = plt.contourf(X, Y, Z+1e-5, cmap = plt.cm.Blues)\n",
    "# plt.gca().clabel(CS, CS.levels, inline=True, fontsize=10)\n",
    "plt.scatter(gt_action[a, t, 0], gt_action[a, t, 1], c='r', s=30, marker='x')\n",
    "# plt.colorbar(CSF)\n",
    "plt.xlabel('Acceleration')\n",
    "plt.ylabel('Yaw Rate')\n",
    "plt.title(f'Contour Plot of GMM {t}')\n",
    "plt.show()\n",
    "\n",
    "t+=1"
   ]
  }
 ],
 "metadata": {
  "kernelspec": {
   "display_name": "waymax",
   "language": "python",
   "name": "python3"
  },
  "language_info": {
   "codemirror_mode": {
    "name": "ipython",
    "version": 3
   },
   "file_extension": ".py",
   "mimetype": "text/x-python",
   "name": "python",
   "nbconvert_exporter": "python",
   "pygments_lexer": "ipython3",
   "version": "3.10.13"
  }
 },
 "nbformat": 4,
 "nbformat_minor": 2
}
