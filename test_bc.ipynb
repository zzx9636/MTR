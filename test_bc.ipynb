{
 "cells": [
  {
   "cell_type": "code",
   "execution_count": 32,
   "metadata": {},
   "outputs": [],
   "source": [
    "# automatically reload the package when it is modified\n",
    "%load_ext autoreload\n",
    "%autoreload 2"
   ]
  },
  {
   "cell_type": "code",
   "execution_count": 33,
   "metadata": {},
   "outputs": [],
   "source": [
    "from mtr.config import cfg, cfg_from_list, cfg_from_yaml_file, log_config_to_file\n",
    "from mtr.datasets.waymo.waymo_dataset_bc import WaymoDatasetBC as WaymoDataset\n",
    "# from mtr.datasets.waymo.waymo_dataset import WaymoDataset\n",
    "\n",
    "from tools.mtr_env import BatchMTREnv\n",
    "from tools.mtr_inference import MTRInference\n",
    "from tools.mtr_lightning import MTR_Lightning\n",
    "import numpy as np\n",
    "import torch\n",
    "import matplotlib.pyplot as plt\n",
    "from torch.distributions import MultivariateNormal, MixtureSameFamily, Categorical, Independent\n",
    "\n",
    "cfg = cfg_from_yaml_file('tools/cfgs/waymo/bc+10_percent_data.yaml', cfg)\n",
    "dataset = WaymoDataset(cfg.DATA_CONFIG, training=True)\n",
    "env = BatchMTREnv(1, dataset)\n",
    "\n",
    "model = MTR_Lightning(cfg)\n",
    "\n",
    "# model = model.load_from_checkpoint('output/bc/epoch=49-step=76700.ckpt')\n",
    "model = model.cuda()"
   ]
  },
  {
   "cell_type": "code",
   "execution_count": null,
   "metadata": {},
   "outputs": [],
   "source": [
    "for key, val in model.named_parameters():\n",
    "    if val.requires_grad:\n",
    "        print(key, val.device)"
   ]
  },
  {
   "cell_type": "code",
   "execution_count": null,
   "metadata": {},
   "outputs": [],
   "source": [
    "(model.model.motion_decoder.query_mlps[1].weight.grad!=0).any()"
   ]
  },
  {
   "cell_type": "code",
   "execution_count": 34,
   "metadata": {},
   "outputs": [
    {
     "name": "stdout",
     "output_type": "stream",
     "text": [
      "['TYPE_VEHICLE' 'TYPE_VEHICLE' 'TYPE_VEHICLE' 'TYPE_VEHICLE'\n",
      " 'TYPE_VEHICLE' 'TYPE_VEHICLE' 'TYPE_VEHICLE' 'TYPE_VEHICLE'\n",
      " 'TYPE_VEHICLE' 'TYPE_VEHICLE' 'TYPE_VEHICLE' 'TYPE_VEHICLE'\n",
      " 'TYPE_VEHICLE' 'TYPE_VEHICLE' 'TYPE_VEHICLE' 'TYPE_VEHICLE'\n",
      " 'TYPE_VEHICLE' 'TYPE_VEHICLE' 'TYPE_VEHICLE' 'TYPE_VEHICLE'\n",
      " 'TYPE_VEHICLE' 'TYPE_VEHICLE' 'TYPE_VEHICLE' 'TYPE_VEHICLE'\n",
      " 'TYPE_VEHICLE' 'TYPE_VEHICLE' 'TYPE_VEHICLE' 'TYPE_VEHICLE'\n",
      " 'TYPE_VEHICLE' 'TYPE_VEHICLE' 'TYPE_VEHICLE' 'TYPE_VEHICLE'\n",
      " 'TYPE_VEHICLE' 'TYPE_VEHICLE' 'TYPE_VEHICLE' 'TYPE_VEHICLE'\n",
      " 'TYPE_VEHICLE' 'TYPE_VEHICLE' 'TYPE_VEHICLE' 'TYPE_VEHICLE'\n",
      " 'TYPE_VEHICLE' 'TYPE_VEHICLE' 'TYPE_VEHICLE' 'TYPE_VEHICLE'\n",
      " 'TYPE_VEHICLE' 'TYPE_VEHICLE' 'TYPE_VEHICLE' 'TYPE_VEHICLE'\n",
      " 'TYPE_VEHICLE' 'TYPE_PEDESTRIAN' 'TYPE_PEDESTRIAN' 'TYPE_CYCLIST'\n",
      " 'TYPE_CYCLIST' 'TYPE_CYCLIST' 'TYPE_CYCLIST' 'TYPE_CYCLIST'\n",
      " 'TYPE_CYCLIST' 'TYPE_VEHICLE']\n"
     ]
    }
   ],
   "source": [
    "data = dataset[1]\n"
   ]
  },
  {
   "cell_type": "code",
   "execution_count": 37,
   "metadata": {},
   "outputs": [
    {
     "data": {
      "text/plain": [
       "False"
      ]
     },
     "execution_count": 37,
     "metadata": {},
     "output_type": "execute_result"
    }
   ],
   "source": [
    "'TYPE_VEHICLE' != 'TYPE_VEHICLE'"
   ]
  },
  {
   "cell_type": "code",
   "execution_count": null,
   "metadata": {},
   "outputs": [],
   "source": [
    "model.zero_grad()\n",
    "data = dataset[1]\n",
    "data_batch = dataset.collate_batch([data])\n",
    "\n",
    "loss = model.training_step(data_batch, 0)\n",
    "loss.backward()"
   ]
  },
  {
   "cell_type": "code",
   "execution_count": null,
   "metadata": {},
   "outputs": [],
   "source": [
    "print(model.model.motion_decoder.query_mlps[1].weight)"
   ]
  },
  {
   "cell_type": "markdown",
   "metadata": {},
   "source": [
    "# Test with dataset"
   ]
  },
  {
   "cell_type": "code",
   "execution_count": null,
   "metadata": {},
   "outputs": [],
   "source": [
    "data = dataset[1]\n",
    "data_batch = dataset.collate_batch([data])\n",
    "gt = data_batch['input_dict']['center_gt']\n",
    "mode, mix, gmm, sample = model.sample(data_batch)"
   ]
  },
  {
   "cell_type": "code",
   "execution_count": null,
   "metadata": {},
   "outputs": [],
   "source": [
    "print(model.model.motion_decoder.int_query_embed.requires_grad)"
   ]
  },
  {
   "cell_type": "code",
   "execution_count": null,
   "metadata": {},
   "outputs": [],
   "source": [
    "print(gt)"
   ]
  },
  {
   "cell_type": "code",
   "execution_count": null,
   "metadata": {},
   "outputs": [],
   "source": [
    "print(mode.mean)"
   ]
  },
  {
   "cell_type": "markdown",
   "metadata": {},
   "source": [
    "# Test in simulation"
   ]
  },
  {
   "cell_type": "code",
   "execution_count": null,
   "metadata": {},
   "outputs": [],
   "source": [
    "env.reset()"
   ]
  },
  {
   "cell_type": "code",
   "execution_count": null,
   "metadata": {},
   "outputs": [],
   "source": [
    "data_batch = env.batch_scene_data\n",
    "action = model.sample(data_batch)\n",
    "env.visualize()\n",
    "print(action)\n",
    "_ = env.step(action)"
   ]
  },
  {
   "cell_type": "code",
   "execution_count": 134,
   "metadata": {},
   "outputs": [],
   "source": [
    "from mtr.models.utils import common_layers\n",
    "import torch\n",
    "\n",
    "class test(torch.nn.Module):\n",
    "    def __init__(self) -> None:\n",
    "        super().__init__()\n",
    "        self.query = torch.nn.Parameter(torch.randn((2,4)), requires_grad=True)\n",
    "        self.model = common_layers.build_mlps(c_in = 4, mlp_channels=[8,4], ret_before_act=True, activation='elu')\n",
    "        \n",
    "    def forward(self):\n",
    "        return self.model(self.query)\n",
    "\n",
    "model = test()\n",
    "optimizer = torch.optim.Adam(model.parameters(), lr=1e-3)"
   ]
  },
  {
   "cell_type": "code",
   "execution_count": 138,
   "metadata": {},
   "outputs": [
    {
     "name": "stdout",
     "output_type": "stream",
     "text": [
      "tensor(0.9687, grad_fn=<MeanBackward0>) Parameter containing:\n",
      "tensor([[-0.3499,  0.9735,  0.2286, -0.6830],\n",
      "        [ 1.1687,  0.1663, -0.0511,  0.4827]], requires_grad=True)\n"
     ]
    }
   ],
   "source": [
    "model.zero_grad()\n",
    "b = model()\n",
    "loss = torch.abs(b-1).mean()\n",
    "loss.backward()\n",
    "optimizer.step()\n",
    "print(loss, model.query)\n"
   ]
  }
 ],
 "metadata": {
  "kernelspec": {
   "display_name": "lpp",
   "language": "python",
   "name": "python3"
  },
  "language_info": {
   "codemirror_mode": {
    "name": "ipython",
    "version": 3
   },
   "file_extension": ".py",
   "mimetype": "text/x-python",
   "name": "python",
   "nbconvert_exporter": "python",
   "pygments_lexer": "ipython3",
   "version": "3.9.16"
  },
  "orig_nbformat": 4
 },
 "nbformat": 4,
 "nbformat_minor": 2
}
