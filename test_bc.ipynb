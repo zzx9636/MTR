{
 "cells": [
  {
   "cell_type": "code",
   "execution_count": null,
   "metadata": {},
   "outputs": [],
   "source": [
    "# automatically reload the package when it is modified\n",
    "%load_ext autoreload\n",
    "%autoreload 2"
   ]
  },
  {
   "cell_type": "code",
   "execution_count": null,
   "metadata": {},
   "outputs": [],
   "source": [
    "from mtr.config import cfg, cfg_from_list, cfg_from_yaml_file, log_config_to_file\n",
    "from mtr.datasets.waymo.waymo_dataset_bc import WaymoDatasetBC as WaymoDataset\n",
    "# from mtr.datasets.waymo.waymo_dataset import WaymoDataset\n",
    "\n",
    "from tools.mtr_env import BatchMTREnv\n",
    "from tools.mtr_inference import MTRInference\n",
    "from tools.mtr_lightning import MTR_Lightning\n",
    "import numpy as np\n",
    "import torch\n",
    "import matplotlib.pyplot as plt\n",
    "from torch.distributions import MultivariateNormal, MixtureSameFamily, Categorical, Independent\n",
    "\n",
    "cfg = cfg_from_yaml_file('tools/cfgs/waymo/bc+10_percent_data.yaml', cfg)\n",
    "dataset = WaymoDataset(cfg.DATA_CONFIG, training=False)\n",
    "env = BatchMTREnv(1, dataset)\n",
    "\n",
    "model = MTR_Lightning(cfg)\n",
    "# model = model.load_from_checkpoint('output/bc/epoch=6-step=10682.ckpt')\n",
    "_ = model.cuda()\n",
    "\n",
    "data = dataset[128]\n",
    "data_batch = dataset.collate_batch([data])"
   ]
  },
  {
   "cell_type": "code",
   "execution_count": null,
   "metadata": {},
   "outputs": [],
   "source": [
    "model.training_step(data_batch, 0)"
   ]
  },
  {
   "cell_type": "markdown",
   "metadata": {},
   "source": [
    "# Test with dataset"
   ]
  },
  {
   "cell_type": "code",
   "execution_count": null,
   "metadata": {},
   "outputs": [],
   "source": [
    "output_mean = model.model.motion_decoder.output_mean\n",
    "output_std = model.model.motion_decoder.output_std"
   ]
  },
  {
   "cell_type": "code",
   "execution_count": null,
   "metadata": {},
   "outputs": [],
   "source": [
    "data = dataset[128]\n",
    "data_batch = dataset.collate_batch([data])\n",
    "output = model.model(data_batch, False)"
   ]
  },
  {
   "cell_type": "code",
   "execution_count": null,
   "metadata": {},
   "outputs": [],
   "source": [
    "center_gt = output['input_dict']['center_gt'][...,None, :3].cuda()\n",
    "center_gt = (center_gt - output_mean) / output_std\n",
    "pred_list = output['pred_list']\n",
    "pred_scores, pred_ctrls = pred_list[-1]"
   ]
  },
  {
   "cell_type": "code",
   "execution_count": null,
   "metadata": {},
   "outputs": [],
   "source": [
    "center_gt"
   ]
  },
  {
   "cell_type": "code",
   "execution_count": null,
   "metadata": {},
   "outputs": [],
   "source": [
    "best_idx = (pred_ctrls[...,:3] - center_gt).norm(dim=-1, p=2).argmin(dim=-1)\n",
    "print(best_idx)\n",
    "pred_ctrls_best = pred_ctrls[torch.arange(pred_ctrls.shape[0]), best_idx]\n",
    "mode_best = model.model.motion_decoder.build_mode_distribution(pred_ctrls_best)\n",
    "log_p_best = mode_best.log_prob(center_gt.squeeze(1))\n",
    "print(log_p_best)\n",
    "cls_loss = torch.functional.F.cross_entropy(input=pred_scores, target= best_idx, reduction='none')\n",
    "print(cls_loss)"
   ]
  },
  {
   "cell_type": "code",
   "execution_count": null,
   "metadata": {},
   "outputs": [],
   "source": [
    "mode = model.model.motion_decoder.build_mode_distribution(pred_ctrls)\n",
    "log_p = mode.log_prob(center_gt)\n",
    "log_p"
   ]
  },
  {
   "cell_type": "code",
   "execution_count": null,
   "metadata": {},
   "outputs": [],
   "source": [
    "mode, mix, gmm, sample = model.sample(data_batch)\n",
    "# print(sample)"
   ]
  },
  {
   "cell_type": "code",
   "execution_count": null,
   "metadata": {},
   "outputs": [],
   "source": [
    "mode.log_prob(gt_shift)[0]"
   ]
  },
  {
   "cell_type": "markdown",
   "metadata": {},
   "source": [
    "# Test in simulation"
   ]
  },
  {
   "cell_type": "code",
   "execution_count": null,
   "metadata": {},
   "outputs": [],
   "source": [
    "env.reset()"
   ]
  },
  {
   "cell_type": "code",
   "execution_count": null,
   "metadata": {},
   "outputs": [],
   "source": [
    "data_batch = env.batch_scene_data\n",
    "action = model.sample(data_batch)[-1]\n",
    "env.visualize()\n",
    "print(action)\n",
    "_ = env.step(action)"
   ]
  },
  {
   "cell_type": "code",
   "execution_count": null,
   "metadata": {},
   "outputs": [],
   "source": [
    "from mtr.models.utils import common_layers\n",
    "import torch\n",
    "\n",
    "class test(torch.nn.Module):\n",
    "    def __init__(self) -> None:\n",
    "        super().__init__()\n",
    "        self.query = torch.nn.Parameter(torch.randn((2,4)), requires_grad=True)\n",
    "        self.model = common_layers.build_mlps(c_in = 4, mlp_channels=[8,4], ret_before_act=True, activation='elu')\n",
    "        \n",
    "    def forward(self):\n",
    "        return self.model(self.query)\n",
    "\n",
    "model = test()\n",
    "optimizer = torch.optim.Adam(model.parameters(), lr=1e-3)"
   ]
  },
  {
   "cell_type": "code",
   "execution_count": null,
   "metadata": {},
   "outputs": [],
   "source": [
    "model.zero_grad()\n",
    "b = model()\n",
    "loss = torch.abs(b-1).mean()\n",
    "loss.backward()\n",
    "optimizer.step()\n",
    "print(loss, model.query)\n"
   ]
  }
 ],
 "metadata": {
  "kernelspec": {
   "display_name": "lpp",
   "language": "python",
   "name": "python3"
  },
  "language_info": {
   "codemirror_mode": {
    "name": "ipython",
    "version": 3
   },
   "file_extension": ".py",
   "mimetype": "text/x-python",
   "name": "python",
   "nbconvert_exporter": "python",
   "pygments_lexer": "ipython3",
   "version": "3.9.16"
  },
  "orig_nbformat": 4
 },
 "nbformat": 4,
 "nbformat_minor": 2
}
