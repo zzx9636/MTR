{
 "cells": [
  {
   "cell_type": "code",
   "execution_count": 3,
   "metadata": {},
   "outputs": [
    {
     "name": "stdout",
     "output_type": "stream",
     "text": [
      "The autoreload extension is already loaded. To reload it, use:\n",
      "  %reload_ext autoreload\n"
     ]
    }
   ],
   "source": [
    "# automatically reload the package when it is modified\n",
    "%load_ext autoreload\n",
    "%autoreload 2"
   ]
  },
  {
   "cell_type": "code",
   "execution_count": 4,
   "metadata": {},
   "outputs": [],
   "source": [
    "\n",
    "from mtr.config import cfg, cfg_from_yaml_file\n",
    "from mtr.datasets.waymo.waymo_dataset_bc import WaymoDatasetBC\n",
    "from tqdm import tqdm\n",
    "import numpy as np\n",
    "\n",
    "cfg_file = 'tools/cfgs/waymo/bc+10_percent_data.yaml'\n",
    "cfg = cfg_from_yaml_file(cfg_file, cfg)\n",
    "cfg.DATA_CONFIG.WITHOUT_HDMAP = True\n",
    "dataset = WaymoDatasetBC(cfg.DATA_CONFIG, training=True)\n",
    "num_data = len(dataset)"
   ]
  },
  {
   "cell_type": "markdown",
   "metadata": {},
   "source": [
    "# Calculate Mean and STD without resampling"
   ]
  },
  {
   "cell_type": "code",
   "execution_count": null,
   "metadata": {},
   "outputs": [],
   "source": [
    "def calc(n, running_sum, running_sum_square):\n",
    "    mean  = running_sum / n\n",
    "    var = running_sum_square / n - mean**2\n",
    "    std = var**0.5\n",
    "    \n",
    "    print('mean: ', mean)\n",
    "    print('var: ', var)\n",
    "    print('std: ', std)\n",
    "    return mean, var, std"
   ]
  },
  {
   "cell_type": "code",
   "execution_count": null,
   "metadata": {},
   "outputs": [],
   "source": [
    "running_sum = 0\n",
    "running_sum_square = 0\n",
    "n = 0\n",
    "max = 0\n",
    "\n",
    "for i in tqdm(range(num_data)):\n",
    "    scene_id, info = dataset.load_info(i)\n",
    "    for t in range(10, 90, 10):\n",
    "        data = dataset.extract_scene_data(scene_id, info, t)\n",
    "        if data is None:\n",
    "            continue\n",
    "        gt = data['center_gt'][...,:3]\n",
    "        running_sum += gt.sum(axis=0)\n",
    "        running_sum_square += (gt**2).sum(axis=0)\n",
    "        n += gt.shape[0]\n",
    "        batch_max = np.abs(gt).max(axis=0)\n",
    "        \n",
    "        max = np.maximum(batch_max, max)\n",
    "    if i%500 == 0:    \n",
    "        print(f'itr: {i}, max: {max}')\n",
    "        mean, var, std = calc(n, running_sum, running_sum_square)\n",
    "    \n",
    "mean, var, std = calc(n, running_sum, running_sum_square)\n"
   ]
  },
  {
   "cell_type": "markdown",
   "metadata": {},
   "source": [
    "# Analysis data distribution"
   ]
  },
  {
   "cell_type": "code",
   "execution_count": 15,
   "metadata": {},
   "outputs": [],
   "source": [
    "mean = np.array([7.26195561e-01, 1.52434988e-03, 7.25015970e-04])\n",
    "std = np.array([0.54773382, 0.02357974, 0.04607823])\n",
    "\n",
    "x_histogram = None\n",
    "y_histogram = None\n",
    "h_histogram = None"
   ]
  },
  {
   "cell_type": "code",
   "execution_count": 24,
   "metadata": {},
   "outputs": [
    {
     "name": "stderr",
     "output_type": "stream",
     "text": [
      "100%|██████████| 48821/48821 [09:26<00:00, 86.21it/s] \n"
     ]
    }
   ],
   "source": [
    "for i in tqdm(range(num_data)):\n",
    "    scene_id, info = dataset.load_info(i)\n",
    "    for t in range(10, 90, 10):\n",
    "        data = dataset.extract_scene_data(scene_id, info, t)\n",
    "        if data is None:\n",
    "            continue\n",
    "        gt = data['center_gt'][...,:3]\n",
    "        gt_normalized = (gt - mean) / std\n",
    "        batch_histogram_x = np.histogram(gt_normalized[...,0], bins=100, range=(-5, 5))[0]\n",
    "        batch_histogram_y = np.histogram(gt_normalized[...,1], bins=100, range=(-5, 5))[0]\n",
    "        batch_histogram_h = np.histogram(gt_normalized[...,2], bins=100, range=(-5, 5))[0]\n",
    "        if x_histogram is None:\n",
    "            x_histogram = batch_histogram_x\n",
    "            y_histogram = batch_histogram_y\n",
    "            h_histogram = batch_histogram_h\n",
    "            \n",
    "        else:\n",
    "            x_histogram += batch_histogram_x\n",
    "            y_histogram += batch_histogram_y\n",
    "            h_histogram += batch_histogram_h\n",
    "                    "
   ]
  },
  {
   "cell_type": "code",
   "execution_count": 28,
   "metadata": {},
   "outputs": [
    {
     "data": {
      "text/plain": [
       "<matplotlib.legend.Legend at 0x7fb2144e7b20>"
      ]
     },
     "execution_count": 28,
     "metadata": {},
     "output_type": "execute_result"
    },
    {
     "data": {
      "image/png": "[encoded data removed]",
      "text/plain": [
       "<Figure size 640x480 with 1 Axes>"
      ]
     },
     "metadata": {},
     "output_type": "display_data"
    }
   ],
   "source": [
    "# Plot histogram\n",
    "import matplotlib.pyplot as plt \n",
    "plt.bar(np.arange(-5, 5, 0.1), x_histogram, label='x')\n",
    "plt.bar(np.arange(-5, 5, 0.1), y_histogram, label='y')\n",
    "plt.bar(np.arange(-5, 5, 0.1), h_histogram, label='h')\n",
    "plt.yscale('log')\n",
    "\n",
    "plt.legend()"
   ]
  }
 ],
 "metadata": {
  "kernelspec": {
   "display_name": "lpp",
   "language": "python",
   "name": "python3"
  },
  "language_info": {
   "codemirror_mode": {
    "name": "ipython",
    "version": 3
   },
   "file_extension": ".py",
   "mimetype": "text/x-python",
   "name": "python",
   "nbconvert_exporter": "python",
   "pygments_lexer": "ipython3",
   "version": "3.9.16"
  }
 },
 "nbformat": 4,
 "nbformat_minor": 2
}
